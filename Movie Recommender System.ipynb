{
  "nbformat": 4,
  "nbformat_minor": 0,
  "metadata": {
    "kernelspec": {
      "name": "python3",
      "display_name": "Python 3"
    },
    "language_info": {
      "codemirror_mode": {
        "name": "ipython",
        "version": 3
      },
      "file_extension": ".py",
      "mimetype": "text/x-python",
      "name": "python",
      "nbconvert_exporter": "python",
      "pygments_lexer": "ipython3",
      "version": "3.6.7"
    },
    "colab": {
      "name": "PJ3_20140895_JungwooHan.ipynb",
      "provenance": [],
      "collapsed_sections": [],
      "toc_visible": true
    },
    "accelerator": "GPU"
  },
  "cells": [
    {
      "cell_type": "markdown",
      "metadata": {
        "id": "ryN_Fc2sXlIP",
        "colab_type": "text"
      },
      "source": [
        "# Movie Recommender Systems\n",
        "\n",
        "### **2019/11/14 CoE 202 Activity 3**\n",
        "\n",
        "***Tip> shotcuts for Jupyter Notebook***\n",
        "* Shift + Enter : run cell and select below\n",
        "\n",
        "**(!! Important) In this activity, we excute our model using GPU. Change Hardware Accelerator.**</br>\n",
        "Edit > Notebook settings or Runtime > Change runtime type and select GPU as Hardware accelerator.</br>\n",
        "런타입 > 런타입 유형 변경 > 하드웨어 가속기 > GPU</br>\n",
        "</br>\n"
      ]
    },
    {
      "cell_type": "markdown",
      "metadata": {
        "id": "JpE9A4wBXlIS",
        "colab_type": "text"
      },
      "source": [
        "### Upload the data that you need to Google server\n",
        "These files are in data folder.\n",
        "1. ratings.csv\n",
        "2. movies.csv \n",
        "3. fig1.png (the above picture, optional)\n"
      ]
    },
    {
      "cell_type": "code",
      "metadata": {
        "id": "L9Fh89pCXlIT",
        "colab_type": "code",
        "colab": {}
      },
      "source": [
        "from google.colab import files\n",
        "uploaded = files.upload()\n",
        "\n",
        "for fn in uploaded.keys():\n",
        "  print('User uploaded file \"{name}\" with length {length} bytes'.format(name=fn, length=len(uploaded[fn])))"
      ],
      "execution_count": 0,
      "outputs": []
    },
    {
      "cell_type": "code",
      "metadata": {
        "id": "0jCIQD3UNNyL",
        "colab_type": "code",
        "colab": {}
      },
      "source": [
        "from IPython.display import Image\n",
        "Image(filename=\"/content/fig1.png\", width=\"1000\") # If you can't see figure, then upload /img/fig1.png by executing the under code cell."
      ],
      "execution_count": 0,
      "outputs": []
    },
    {
      "cell_type": "markdown",
      "metadata": {
        "id": "ZHoM1BZ7OoWC",
        "colab_type": "text"
      },
      "source": [
        "<center>Fig. 1 Item-based autoencoder </center>\n",
        "\n",
        "A recommender system is a subclass of information filtering system that seeks to predict the \"rating\" or \"preference\" a user would give to an item.<br/>\n",
        "In Project 3, this recommender system is a system to estimate ratings of other movies using ratings from other users similar to those of one user.<br/>\n",
        "And an autoencoder is a neural network that learns to copy its input to its output. It has an internal(hidden) layer that describes a code used to represent the input, and it is constituted by two main parts: an encoder that maps the input into the code, and a decoder that maps the code to a reconstruction of the original input.</br>\n",
        "A item based autoencoder use the ratings of many users in a movie. In other words, the item based autoencoder use column vector of input matrix.</br> \n",
        "A user based autoencoder ues the ratings of many movies in a user. In other words, the user based autoencoder use row vector of input matrix. but in General, the user based autoencoder has less performance than the item based autoencoder. So we use the item based autoencoder.</br>\n",
        "</br>\n",
        "#### Objective> Train deep neural network (autoencoder) to complete movie rating matrix\n",
        "- #### Loss function\n",
        "\n",
        "$$L(M, \\hat{M})=\\sum_{(i,j)\\in E}(M_{ij}-\\hat{M}_{ij})^2 + \\lambda\\sum_{i=1}^{3}\\lVert W_i\\rVert^2_2$$\n",
        "<br/>\n",
        "- #### Update weight and bias\n",
        "$$\\underset{W, b}{\\text{argmin}}\\hspace{0.2em} L(M, \\hat{M})$$"
      ]
    },
    {
      "cell_type": "markdown",
      "metadata": {
        "id": "JwCKUCLVXTso",
        "colab_type": "text"
      },
      "source": [
        "### Import Library for this project"
      ]
    },
    {
      "cell_type": "code",
      "metadata": {
        "id": "5phvVC-3XlIQ",
        "colab_type": "code",
        "outputId": "60b17cbb-8a9c-4aef-beff-568c3d32369f",
        "colab": {
          "base_uri": "https://localhost:8080/",
          "height": 81
        }
      },
      "source": [
        "import numpy as np\n",
        "import tensorflow as tf\n",
        "%tensorflow_version 1.x\n",
        "import pandas as pd\n",
        "import matplotlib.pyplot as plt\n",
        "%matplotlib inline\n",
        "\n",
        "import time"
      ],
      "execution_count": 1,
      "outputs": [
        {
          "output_type": "display_data",
          "data": {
            "text/html": [
              "<p style=\"color: red;\">\n",
              "The default version of TensorFlow in Colab will soon switch to TensorFlow 2.x.<br>\n",
              "We recommend you <a href=\"https://www.tensorflow.org/guide/migrate\" target=\"_blank\">upgrade</a> now \n",
              "or ensure your notebook will continue to use TensorFlow 1.x via the <code>%tensorflow_version 1.x</code> magic:\n",
              "<a href=\"https://colab.research.google.com/notebooks/tensorflow_version.ipynb\" target=\"_blank\">more info</a>.</p>\n"
            ],
            "text/plain": [
              "<IPython.core.display.HTML object>"
            ]
          },
          "metadata": {
            "tags": []
          }
        }
      ]
    },
    {
      "cell_type": "markdown",
      "metadata": {
        "id": "um_qz7TO55LB",
        "colab_type": "text"
      },
      "source": [
        "## 1. Prepare data"
      ]
    },
    {
      "cell_type": "markdown",
      "metadata": {
        "id": "ARMSY7KdXlIV",
        "colab_type": "text"
      },
      "source": [
        "### MovieLens Dataset (ref.)\n",
        "We use \"MovieLens Latest Datasets\" consisting of 100,000 ratings applied to 9,000 movies by 600 users. Last updated 9/2018.</br>\n",
        "### Fetch MovieLens data\n",
        "All ratings are contained in the file `ratings.csv`. Each line of this file after the header row represents one rating of one movie by one user, and has the following format : userId, movieId, rating, timestamp. The lines within this file are ordered first by userId, then, within user, by movieId. Ratings are made on a 5-star scale, with half-star increments (0.5 stars - 5.0 stars). Timestamps represent seconds since midnight Coordinated Universal Time (UTC) of January 1, 1970."
      ]
    },
    {
      "cell_type": "code",
      "metadata": {
        "id": "zDBpj-qJXlIW",
        "colab_type": "code",
        "outputId": "9fa9f842-e88d-498b-c0a3-1fb0dcf46b86",
        "colab": {
          "base_uri": "https://localhost:8080/",
          "height": 348
        }
      },
      "source": [
        "rating = pd.read_csv('ratings.csv')\n",
        "rating.head(10)"
      ],
      "execution_count": 2,
      "outputs": [
        {
          "output_type": "execute_result",
          "data": {
            "text/html": [
              "<div>\n",
              "<style scoped>\n",
              "    .dataframe tbody tr th:only-of-type {\n",
              "        vertical-align: middle;\n",
              "    }\n",
              "\n",
              "    .dataframe tbody tr th {\n",
              "        vertical-align: top;\n",
              "    }\n",
              "\n",
              "    .dataframe thead th {\n",
              "        text-align: right;\n",
              "    }\n",
              "</style>\n",
              "<table border=\"1\" class=\"dataframe\">\n",
              "  <thead>\n",
              "    <tr style=\"text-align: right;\">\n",
              "      <th></th>\n",
              "      <th>userId</th>\n",
              "      <th>movieId</th>\n",
              "      <th>rating</th>\n",
              "      <th>timestamp</th>\n",
              "    </tr>\n",
              "  </thead>\n",
              "  <tbody>\n",
              "    <tr>\n",
              "      <th>0</th>\n",
              "      <td>1</td>\n",
              "      <td>1</td>\n",
              "      <td>4.0</td>\n",
              "      <td>964982703</td>\n",
              "    </tr>\n",
              "    <tr>\n",
              "      <th>1</th>\n",
              "      <td>1</td>\n",
              "      <td>3</td>\n",
              "      <td>4.0</td>\n",
              "      <td>964981247</td>\n",
              "    </tr>\n",
              "    <tr>\n",
              "      <th>2</th>\n",
              "      <td>1</td>\n",
              "      <td>6</td>\n",
              "      <td>4.0</td>\n",
              "      <td>964982224</td>\n",
              "    </tr>\n",
              "    <tr>\n",
              "      <th>3</th>\n",
              "      <td>1</td>\n",
              "      <td>47</td>\n",
              "      <td>5.0</td>\n",
              "      <td>964983815</td>\n",
              "    </tr>\n",
              "    <tr>\n",
              "      <th>4</th>\n",
              "      <td>1</td>\n",
              "      <td>50</td>\n",
              "      <td>5.0</td>\n",
              "      <td>964982931</td>\n",
              "    </tr>\n",
              "    <tr>\n",
              "      <th>5</th>\n",
              "      <td>1</td>\n",
              "      <td>70</td>\n",
              "      <td>3.0</td>\n",
              "      <td>964982400</td>\n",
              "    </tr>\n",
              "    <tr>\n",
              "      <th>6</th>\n",
              "      <td>1</td>\n",
              "      <td>101</td>\n",
              "      <td>5.0</td>\n",
              "      <td>964980868</td>\n",
              "    </tr>\n",
              "    <tr>\n",
              "      <th>7</th>\n",
              "      <td>1</td>\n",
              "      <td>110</td>\n",
              "      <td>4.0</td>\n",
              "      <td>964982176</td>\n",
              "    </tr>\n",
              "    <tr>\n",
              "      <th>8</th>\n",
              "      <td>1</td>\n",
              "      <td>151</td>\n",
              "      <td>5.0</td>\n",
              "      <td>964984041</td>\n",
              "    </tr>\n",
              "    <tr>\n",
              "      <th>9</th>\n",
              "      <td>1</td>\n",
              "      <td>157</td>\n",
              "      <td>5.0</td>\n",
              "      <td>964984100</td>\n",
              "    </tr>\n",
              "  </tbody>\n",
              "</table>\n",
              "</div>"
            ],
            "text/plain": [
              "   userId  movieId  rating  timestamp\n",
              "0       1        1     4.0  964982703\n",
              "1       1        3     4.0  964981247\n",
              "2       1        6     4.0  964982224\n",
              "3       1       47     5.0  964983815\n",
              "4       1       50     5.0  964982931\n",
              "5       1       70     3.0  964982400\n",
              "6       1      101     5.0  964980868\n",
              "7       1      110     4.0  964982176\n",
              "8       1      151     5.0  964984041\n",
              "9       1      157     5.0  964984100"
            ]
          },
          "metadata": {
            "tags": []
          },
          "execution_count": 2
        }
      ]
    },
    {
      "cell_type": "markdown",
      "metadata": {
        "id": "1lwDO4k9XlIY",
        "colab_type": "text"
      },
      "source": [
        "### Ratings statistics\n",
        "Count the number of movies with identical rating."
      ]
    },
    {
      "cell_type": "code",
      "metadata": {
        "id": "YvANQacCXlIY",
        "colab_type": "code",
        "outputId": "53945f50-96fa-4803-f3bd-ecbeb34e32ac",
        "colab": {
          "base_uri": "https://localhost:8080/",
          "height": 378
        }
      },
      "source": [
        "rating.set_index([\"userId\", \"timestamp\",\"rating\"]).count(level=\"rating\").rename({'movieId': 'The number of movies'}, axis='columns')"
      ],
      "execution_count": 3,
      "outputs": [
        {
          "output_type": "execute_result",
          "data": {
            "text/html": [
              "<div>\n",
              "<style scoped>\n",
              "    .dataframe tbody tr th:only-of-type {\n",
              "        vertical-align: middle;\n",
              "    }\n",
              "\n",
              "    .dataframe tbody tr th {\n",
              "        vertical-align: top;\n",
              "    }\n",
              "\n",
              "    .dataframe thead th {\n",
              "        text-align: right;\n",
              "    }\n",
              "</style>\n",
              "<table border=\"1\" class=\"dataframe\">\n",
              "  <thead>\n",
              "    <tr style=\"text-align: right;\">\n",
              "      <th></th>\n",
              "      <th>The number of movies</th>\n",
              "    </tr>\n",
              "    <tr>\n",
              "      <th>rating</th>\n",
              "      <th></th>\n",
              "    </tr>\n",
              "  </thead>\n",
              "  <tbody>\n",
              "    <tr>\n",
              "      <th>0.5</th>\n",
              "      <td>1370</td>\n",
              "    </tr>\n",
              "    <tr>\n",
              "      <th>1.0</th>\n",
              "      <td>2811</td>\n",
              "    </tr>\n",
              "    <tr>\n",
              "      <th>1.5</th>\n",
              "      <td>1791</td>\n",
              "    </tr>\n",
              "    <tr>\n",
              "      <th>2.0</th>\n",
              "      <td>7551</td>\n",
              "    </tr>\n",
              "    <tr>\n",
              "      <th>2.5</th>\n",
              "      <td>5550</td>\n",
              "    </tr>\n",
              "    <tr>\n",
              "      <th>3.0</th>\n",
              "      <td>20047</td>\n",
              "    </tr>\n",
              "    <tr>\n",
              "      <th>3.5</th>\n",
              "      <td>13136</td>\n",
              "    </tr>\n",
              "    <tr>\n",
              "      <th>4.0</th>\n",
              "      <td>26818</td>\n",
              "    </tr>\n",
              "    <tr>\n",
              "      <th>4.5</th>\n",
              "      <td>8551</td>\n",
              "    </tr>\n",
              "    <tr>\n",
              "      <th>5.0</th>\n",
              "      <td>13211</td>\n",
              "    </tr>\n",
              "  </tbody>\n",
              "</table>\n",
              "</div>"
            ],
            "text/plain": [
              "        The number of movies\n",
              "rating                      \n",
              "0.5                     1370\n",
              "1.0                     2811\n",
              "1.5                     1791\n",
              "2.0                     7551\n",
              "2.5                     5550\n",
              "3.0                    20047\n",
              "3.5                    13136\n",
              "4.0                    26818\n",
              "4.5                     8551\n",
              "5.0                    13211"
            ]
          },
          "metadata": {
            "tags": []
          },
          "execution_count": 3
        }
      ]
    },
    {
      "cell_type": "markdown",
      "metadata": {
        "id": "onAY-oIgXlIa",
        "colab_type": "text"
      },
      "source": [
        "Count the number of users and movies and check the sparsity<br/>\n",
        "There are 610 distinct user and 9724 moives, and sparsity is 1.7%.<br/>\n",
        "And rating.csv contains 100836 (userID, movieID, rating, timestemps) pairs."
      ]
    },
    {
      "cell_type": "code",
      "metadata": {
        "id": "jOHWTOBPXlIa",
        "colab_type": "code",
        "outputId": "8c7d6d43-0b0e-4701-d2de-25a526c6f14e",
        "colab": {
          "base_uri": "https://localhost:8080/",
          "height": 69
        }
      },
      "source": [
        "n_user = len(rating['userId'].unique())\n",
        "n_movie = len(rating['movieId'].unique())\n",
        "n_rating = len(rating['rating'])\n",
        "print(\"[*] %d users & %d movies\" % (n_user, n_movie))\n",
        "print(n_rating)\n",
        "print(\"[*] Sparsity: %.2f%%\" % (n_rating / (n_user * n_movie) * 100))"
      ],
      "execution_count": 4,
      "outputs": [
        {
          "output_type": "stream",
          "text": [
            "[*] 610 users & 9724 movies\n",
            "100836\n",
            "[*] Sparsity: 1.70%\n"
          ],
          "name": "stdout"
        }
      ]
    },
    {
      "cell_type": "markdown",
      "metadata": {
        "id": "AFf0a9c5XlIc",
        "colab_type": "text"
      },
      "source": [
        "### Movie list\n",
        "See the movie list including movies' title and genres.<br/>\n",
        "Movie information is contained in the file `movies.csv`. Each line of this file after the header row represents one movie, and has the following format : movieId,title,genres. Movie titles are entered manually or imported from <https://www.themoviedb.org/>, and include the year of release in parentheses. Errors and inconsistencies may exist in these titles. Genres are a pipe-separated list"
      ]
    },
    {
      "cell_type": "code",
      "metadata": {
        "id": "lyWdhNFDXlId",
        "colab_type": "code",
        "outputId": "c58801e3-c442-45b6-92da-2a0770779b22",
        "colab": {
          "base_uri": "https://localhost:8080/",
          "height": 348
        }
      },
      "source": [
        "movielist = pd.read_csv('movies.csv')\n",
        "movielist.head(10)"
      ],
      "execution_count": 5,
      "outputs": [
        {
          "output_type": "execute_result",
          "data": {
            "text/html": [
              "<div>\n",
              "<style scoped>\n",
              "    .dataframe tbody tr th:only-of-type {\n",
              "        vertical-align: middle;\n",
              "    }\n",
              "\n",
              "    .dataframe tbody tr th {\n",
              "        vertical-align: top;\n",
              "    }\n",
              "\n",
              "    .dataframe thead th {\n",
              "        text-align: right;\n",
              "    }\n",
              "</style>\n",
              "<table border=\"1\" class=\"dataframe\">\n",
              "  <thead>\n",
              "    <tr style=\"text-align: right;\">\n",
              "      <th></th>\n",
              "      <th>movieId</th>\n",
              "      <th>title</th>\n",
              "      <th>genres</th>\n",
              "    </tr>\n",
              "  </thead>\n",
              "  <tbody>\n",
              "    <tr>\n",
              "      <th>0</th>\n",
              "      <td>1</td>\n",
              "      <td>Toy Story (1995)</td>\n",
              "      <td>Adventure|Animation|Children|Comedy|Fantasy</td>\n",
              "    </tr>\n",
              "    <tr>\n",
              "      <th>1</th>\n",
              "      <td>2</td>\n",
              "      <td>Jumanji (1995)</td>\n",
              "      <td>Adventure|Children|Fantasy</td>\n",
              "    </tr>\n",
              "    <tr>\n",
              "      <th>2</th>\n",
              "      <td>3</td>\n",
              "      <td>Grumpier Old Men (1995)</td>\n",
              "      <td>Comedy|Romance</td>\n",
              "    </tr>\n",
              "    <tr>\n",
              "      <th>3</th>\n",
              "      <td>4</td>\n",
              "      <td>Waiting to Exhale (1995)</td>\n",
              "      <td>Comedy|Drama|Romance</td>\n",
              "    </tr>\n",
              "    <tr>\n",
              "      <th>4</th>\n",
              "      <td>5</td>\n",
              "      <td>Father of the Bride Part II (1995)</td>\n",
              "      <td>Comedy</td>\n",
              "    </tr>\n",
              "    <tr>\n",
              "      <th>5</th>\n",
              "      <td>6</td>\n",
              "      <td>Heat (1995)</td>\n",
              "      <td>Action|Crime|Thriller</td>\n",
              "    </tr>\n",
              "    <tr>\n",
              "      <th>6</th>\n",
              "      <td>7</td>\n",
              "      <td>Sabrina (1995)</td>\n",
              "      <td>Comedy|Romance</td>\n",
              "    </tr>\n",
              "    <tr>\n",
              "      <th>7</th>\n",
              "      <td>8</td>\n",
              "      <td>Tom and Huck (1995)</td>\n",
              "      <td>Adventure|Children</td>\n",
              "    </tr>\n",
              "    <tr>\n",
              "      <th>8</th>\n",
              "      <td>9</td>\n",
              "      <td>Sudden Death (1995)</td>\n",
              "      <td>Action</td>\n",
              "    </tr>\n",
              "    <tr>\n",
              "      <th>9</th>\n",
              "      <td>10</td>\n",
              "      <td>GoldenEye (1995)</td>\n",
              "      <td>Action|Adventure|Thriller</td>\n",
              "    </tr>\n",
              "  </tbody>\n",
              "</table>\n",
              "</div>"
            ],
            "text/plain": [
              "   movieId  ...                                       genres\n",
              "0        1  ...  Adventure|Animation|Children|Comedy|Fantasy\n",
              "1        2  ...                   Adventure|Children|Fantasy\n",
              "2        3  ...                               Comedy|Romance\n",
              "3        4  ...                         Comedy|Drama|Romance\n",
              "4        5  ...                                       Comedy\n",
              "5        6  ...                        Action|Crime|Thriller\n",
              "6        7  ...                               Comedy|Romance\n",
              "7        8  ...                           Adventure|Children\n",
              "8        9  ...                                       Action\n",
              "9       10  ...                    Action|Adventure|Thriller\n",
              "\n",
              "[10 rows x 3 columns]"
            ]
          },
          "metadata": {
            "tags": []
          },
          "execution_count": 5
        }
      ]
    },
    {
      "cell_type": "markdown",
      "metadata": {
        "id": "0eWj5Vm5XlIf",
        "colab_type": "text"
      },
      "source": [
        "Drop **\"timestamp\"** which looks useless in rating(ratings.csv).<br/>\n",
        "We can look at the movie list, there is a movie name and corresponding movie ID. And we can see the genre that corresponds to each movieID. A recommend system will use the genre of the moives to approximately estimate similarity of other movie. And the system will estimate(recommend) a user's empty ratings. Therefore, We don't need timestemp.</br>\n",
        "In fact, we don't use genres because we implement simple recommend system. But i wish that you see how a recommend system works"
      ]
    },
    {
      "cell_type": "code",
      "metadata": {
        "id": "vMsJbhJGXlIf",
        "colab_type": "code",
        "outputId": "726291e4-1668-4533-d444-554f663f1350",
        "colab": {
          "base_uri": "https://localhost:8080/",
          "height": 198
        }
      },
      "source": [
        "rating.drop(['timestamp'], axis=1, inplace=True)\n",
        "rating.tail()"
      ],
      "execution_count": 6,
      "outputs": [
        {
          "output_type": "execute_result",
          "data": {
            "text/html": [
              "<div>\n",
              "<style scoped>\n",
              "    .dataframe tbody tr th:only-of-type {\n",
              "        vertical-align: middle;\n",
              "    }\n",
              "\n",
              "    .dataframe tbody tr th {\n",
              "        vertical-align: top;\n",
              "    }\n",
              "\n",
              "    .dataframe thead th {\n",
              "        text-align: right;\n",
              "    }\n",
              "</style>\n",
              "<table border=\"1\" class=\"dataframe\">\n",
              "  <thead>\n",
              "    <tr style=\"text-align: right;\">\n",
              "      <th></th>\n",
              "      <th>userId</th>\n",
              "      <th>movieId</th>\n",
              "      <th>rating</th>\n",
              "    </tr>\n",
              "  </thead>\n",
              "  <tbody>\n",
              "    <tr>\n",
              "      <th>100831</th>\n",
              "      <td>610</td>\n",
              "      <td>166534</td>\n",
              "      <td>4.0</td>\n",
              "    </tr>\n",
              "    <tr>\n",
              "      <th>100832</th>\n",
              "      <td>610</td>\n",
              "      <td>168248</td>\n",
              "      <td>5.0</td>\n",
              "    </tr>\n",
              "    <tr>\n",
              "      <th>100833</th>\n",
              "      <td>610</td>\n",
              "      <td>168250</td>\n",
              "      <td>5.0</td>\n",
              "    </tr>\n",
              "    <tr>\n",
              "      <th>100834</th>\n",
              "      <td>610</td>\n",
              "      <td>168252</td>\n",
              "      <td>5.0</td>\n",
              "    </tr>\n",
              "    <tr>\n",
              "      <th>100835</th>\n",
              "      <td>610</td>\n",
              "      <td>170875</td>\n",
              "      <td>3.0</td>\n",
              "    </tr>\n",
              "  </tbody>\n",
              "</table>\n",
              "</div>"
            ],
            "text/plain": [
              "        userId  movieId  rating\n",
              "100831     610   166534     4.0\n",
              "100832     610   168248     5.0\n",
              "100833     610   168250     5.0\n",
              "100834     610   168252     5.0\n",
              "100835     610   170875     3.0"
            ]
          },
          "metadata": {
            "tags": []
          },
          "execution_count": 6
        }
      ]
    },
    {
      "cell_type": "markdown",
      "metadata": {
        "id": "PKQdR5t9XlIh",
        "colab_type": "text"
      },
      "source": [
        "Scale **\"movieId\"** in between 0 and 9723, **\"userId\"** in between 0 and 609<br/></br>\n",
        "Use pandas.factorize() to using input data converted to numerical data.<br/> \n",
        "labels(Numeric Representation), values = pandas.factorize()"
      ]
    },
    {
      "cell_type": "code",
      "metadata": {
        "id": "8k_VvrCtXlIi",
        "colab_type": "code",
        "outputId": "ea528bfa-c0d1-4e89-80b5-254315961c3b",
        "colab": {
          "base_uri": "https://localhost:8080/",
          "height": 198
        }
      },
      "source": [
        "rating['movieId'], _ = pd.factorize(rating['movieId'])\n",
        "rating['userId'], _ = pd.factorize(rating['userId'])\n",
        "rating.tail()"
      ],
      "execution_count": 7,
      "outputs": [
        {
          "output_type": "execute_result",
          "data": {
            "text/html": [
              "<div>\n",
              "<style scoped>\n",
              "    .dataframe tbody tr th:only-of-type {\n",
              "        vertical-align: middle;\n",
              "    }\n",
              "\n",
              "    .dataframe tbody tr th {\n",
              "        vertical-align: top;\n",
              "    }\n",
              "\n",
              "    .dataframe thead th {\n",
              "        text-align: right;\n",
              "    }\n",
              "</style>\n",
              "<table border=\"1\" class=\"dataframe\">\n",
              "  <thead>\n",
              "    <tr style=\"text-align: right;\">\n",
              "      <th></th>\n",
              "      <th>userId</th>\n",
              "      <th>movieId</th>\n",
              "      <th>rating</th>\n",
              "    </tr>\n",
              "  </thead>\n",
              "  <tbody>\n",
              "    <tr>\n",
              "      <th>100831</th>\n",
              "      <td>609</td>\n",
              "      <td>3120</td>\n",
              "      <td>4.0</td>\n",
              "    </tr>\n",
              "    <tr>\n",
              "      <th>100832</th>\n",
              "      <td>609</td>\n",
              "      <td>2035</td>\n",
              "      <td>5.0</td>\n",
              "    </tr>\n",
              "    <tr>\n",
              "      <th>100833</th>\n",
              "      <td>609</td>\n",
              "      <td>3121</td>\n",
              "      <td>5.0</td>\n",
              "    </tr>\n",
              "    <tr>\n",
              "      <th>100834</th>\n",
              "      <td>609</td>\n",
              "      <td>1392</td>\n",
              "      <td>5.0</td>\n",
              "    </tr>\n",
              "    <tr>\n",
              "      <th>100835</th>\n",
              "      <td>609</td>\n",
              "      <td>2873</td>\n",
              "      <td>3.0</td>\n",
              "    </tr>\n",
              "  </tbody>\n",
              "</table>\n",
              "</div>"
            ],
            "text/plain": [
              "        userId  movieId  rating\n",
              "100831     609     3120     4.0\n",
              "100832     609     2035     5.0\n",
              "100833     609     3121     5.0\n",
              "100834     609     1392     5.0\n",
              "100835     609     2873     3.0"
            ]
          },
          "metadata": {
            "tags": []
          },
          "execution_count": 7
        }
      ]
    },
    {
      "cell_type": "markdown",
      "metadata": {
        "id": "HD1w7J6JXlIj",
        "colab_type": "text"
      },
      "source": [
        "### Item-based autoencoder\n",
        "Rearrange the rating matrix"
      ]
    },
    {
      "cell_type": "code",
      "metadata": {
        "id": "Ehg_8U5FXlIk",
        "colab_type": "code",
        "outputId": "8c92c5b6-8896-47d9-a6ee-d75ca518cd3d",
        "colab": {
          "base_uri": "https://localhost:8080/",
          "height": 198
        }
      },
      "source": [
        "rating = rating[['movieId', 'userId', 'rating']]\n",
        "rating.head()"
      ],
      "execution_count": 8,
      "outputs": [
        {
          "output_type": "execute_result",
          "data": {
            "text/html": [
              "<div>\n",
              "<style scoped>\n",
              "    .dataframe tbody tr th:only-of-type {\n",
              "        vertical-align: middle;\n",
              "    }\n",
              "\n",
              "    .dataframe tbody tr th {\n",
              "        vertical-align: top;\n",
              "    }\n",
              "\n",
              "    .dataframe thead th {\n",
              "        text-align: right;\n",
              "    }\n",
              "</style>\n",
              "<table border=\"1\" class=\"dataframe\">\n",
              "  <thead>\n",
              "    <tr style=\"text-align: right;\">\n",
              "      <th></th>\n",
              "      <th>movieId</th>\n",
              "      <th>userId</th>\n",
              "      <th>rating</th>\n",
              "    </tr>\n",
              "  </thead>\n",
              "  <tbody>\n",
              "    <tr>\n",
              "      <th>0</th>\n",
              "      <td>0</td>\n",
              "      <td>0</td>\n",
              "      <td>4.0</td>\n",
              "    </tr>\n",
              "    <tr>\n",
              "      <th>1</th>\n",
              "      <td>1</td>\n",
              "      <td>0</td>\n",
              "      <td>4.0</td>\n",
              "    </tr>\n",
              "    <tr>\n",
              "      <th>2</th>\n",
              "      <td>2</td>\n",
              "      <td>0</td>\n",
              "      <td>4.0</td>\n",
              "    </tr>\n",
              "    <tr>\n",
              "      <th>3</th>\n",
              "      <td>3</td>\n",
              "      <td>0</td>\n",
              "      <td>5.0</td>\n",
              "    </tr>\n",
              "    <tr>\n",
              "      <th>4</th>\n",
              "      <td>4</td>\n",
              "      <td>0</td>\n",
              "      <td>5.0</td>\n",
              "    </tr>\n",
              "  </tbody>\n",
              "</table>\n",
              "</div>"
            ],
            "text/plain": [
              "   movieId  userId  rating\n",
              "0        0       0     4.0\n",
              "1        1       0     4.0\n",
              "2        2       0     4.0\n",
              "3        3       0     5.0\n",
              "4        4       0     5.0"
            ]
          },
          "metadata": {
            "tags": []
          },
          "execution_count": 8
        }
      ]
    },
    {
      "cell_type": "markdown",
      "metadata": {
        "id": "7U8tHCZAXlIm",
        "colab_type": "text"
      },
      "source": [
        "### Split the ratings for training and test\n",
        "Training : Test = 9 : 1<br/>\n",
        "Divide data set by training data set and training data set by ratio 9:1.<br/>\n",
        "Shape of rating(entire data set) is 100836 $*$ 3</br>\n",
        "Shape of ratingTrain(training data set) is 90752 $*$ 3</br>\n",
        "Shape of ratingTest(test data set) is 10084 $*$ 3</br>\n",
        "</br>\n",
        "pandas.random.choice(range, size, replace)<br/>\n",
        "pandas.iloc() : bring the rows of the corresponding index<br/>\n",
        "And convert pandas.iloc() to numpy array to use.<br/>\n",
        "d1 is number of movies(9724), d2 is number of users(610)\n"
      ]
    },
    {
      "cell_type": "code",
      "metadata": {
        "id": "77StQ1-MXlIm",
        "colab_type": "code",
        "colab": {}
      },
      "source": [
        "trainIdx = np.random.choice(range(n_rating), int(n_rating * 0.9), replace=False)\n",
        "dataTrain = rating.iloc[trainIdx]\n",
        "\n",
        "testIdx = np.setdiff1d(range(n_rating), trainIdx)\n",
        "dataTest = rating.iloc[testIdx]"
      ],
      "execution_count": 0,
      "outputs": []
    },
    {
      "cell_type": "code",
      "metadata": {
        "id": "Faj4m6MUXlIo",
        "colab_type": "code",
        "outputId": "2fd3a297-21fa-4a9b-bba5-984c89043a43",
        "colab": {
          "base_uri": "https://localhost:8080/",
          "height": 52
        }
      },
      "source": [
        "ratingTrain = np.asarray(dataTrain)\n",
        "ratingTest = np.asarray(dataTest)\n",
        "print(ratingTrain.shape)\n",
        "print(ratingTest.shape)\n",
        "d1, d2 = np.max(ratingTrain[:, 0]) + 1, np.max(ratingTrain[:, 1] + 1)"
      ],
      "execution_count": 10,
      "outputs": [
        {
          "output_type": "stream",
          "text": [
            "(90752, 3)\n",
            "(10084, 3)\n"
          ],
          "name": "stdout"
        }
      ]
    },
    {
      "cell_type": "markdown",
      "metadata": {
        "id": "tOkDJuji6CcZ",
        "colab_type": "text"
      },
      "source": [
        "## 2. Build a Graph\n",
        "First, make edge(weight) by using matrix representation, and nodes using placeholder. Second, open session to implement our graph(structure of NN). Third, give feed_dict(input of graph) to graph and excute sess.run(learning NN). "
      ]
    },
    {
      "cell_type": "markdown",
      "metadata": {
        "id": "cld_DBBgXlIq",
        "colab_type": "text"
      },
      "source": [
        "### Make edge for weight of NN\n",
        "We use \"tf.sparse_tensor_dense_matmul()\" function instead of  \"tf.layers.dense( )\" function, because of the sparse input and regularization.</br>\n",
        "sparse input(sparse vector) is a vector in which most of the elements are zero. So, sparse input is represented to the input that each user rated for only a few of movies. In fact, since user didn't rate all movies, most of rating element are blank. Thus zero means blank because Ratings are made on a 5-star scale, with half-star increments (0.5 stars - 5.0 stars). So we input matrix of NN is declared SparseTensor, not typical Tensor. Hence we use \"tf.sparse_tensor_dense_matmul()\". cf. dense input(dense matrix) is a vector or matrix in which all of elements are non-zero, i.e. all rate of user is not zero.</br>\n",
        "In case that input is sparse tensor, if you use tf.sparse_tensor_dense_matmul(), then you can compute to use more efficient memory and more faster speed than using a typical tensor matrix multipy.</br>\n",
        "</br>\n",
        "Our graph take input X(?$*$d2 matrix), where ? means that size is not assigned yet. in fact, our feed_dict is d1$*$d2 matrix. => in 1st layer, X$*$W1+b1(d1$*$d2$*$d2$*$100 + d1$*$100) => in 2nd layer, h1$*$w2+b2(d1$*$100$*$100$*$50+d1$*$50)  => in last layer, h2$*$w3(d1$*$50$*$50$*$d2) => shape of X is the same with shape of yhat (that is autoencoder)</br>\n",
        "</br>\n",
        "tf.sparse_tensor_dense_matmul() : function allows multiplying a sparse matrix by a dense matrix by converting blank nodes to zero.</br>\n",
        "tf._.initializer() : intialize weight for initial learning</br>\n",
        "tf.get_variable(name, shape, ) : get an existing variable with parameter. If there are no parameters, then create one. </br>\n",
        "tf.matmul() : matrix multiplication</br>\n",
        "tf.gather_nd() : gather slices into the output tensor with shape specified by indices. In other words, get yhat of specified user  </br>\n",
        "tf.nn.l2_loss() : variable to the power of 2 </br>\n",
        "tf.reduce_sum() : Summation</br>\n",
        "var.op.name.find('weight') : find position of 'weight' in var.op.name. i.e. 'weight1'.find('weight')=0, 'abc'.find('c')=2, 'abc.find('d')=-1.</br>\n",
        "var.op.name : name of variable is determined by operator that generated variable. i.e. w1 = tf.get_variable('weight1', [d2, _units[0]], initializer=w_init) => w1.op.name = weight1"
      ]
    },
    {
      "cell_type": "code",
      "metadata": {
        "id": "vsxCuKGCXlIq",
        "colab_type": "code",
        "colab": {}
      },
      "source": [
        "def autoencoder(_X, _units, _l2_lambda, _n_ratings):\n",
        "    w_init = tf.contrib.layers.variance_scaling_initializer()\n",
        "    b_init = tf.constant_initializer(0.)\n",
        "    \n",
        "    ## Encoder\n",
        "    '1st Hidden layer'\n",
        "    w1 = tf.get_variable('weight1', [d2, _units[0]], initializer=w_init)\n",
        "    b1 = tf.get_variable('biases1', [_units[0]], initializer=b_init)\n",
        "    h1 = tf.sparse_tensor_dense_matmul(_X, w1) + b1\n",
        "    # Dropout to the output of layer 1 which would be the input of layer 2.\n",
        "    h1 = tf.layers.dropout(h1)\n",
        "    # Batch Normalization of output of layer 1 which would be the input of layer 2.\n",
        "    h1 = tf.layers.batch_normalization(h1, training = True)\n",
        "    h1 = tf.nn.relu(h1)\n",
        "\n",
        "    '2nd Hidden layer'\n",
        "    w2 = tf.get_variable('weight2', [_units[0], _units[1]], initializer=w_init)\n",
        "    b2 = tf.get_variable('biases2', [_units[1]], initializer=b_init)\n",
        "    h2 = tf.matmul(h1, w2) + b2\n",
        "    # Dropout to the output of layer 2 which would be the input of decoder.\n",
        "    h2 = tf.layers.dropout(h2)\n",
        "    # Batch Normalization of output of layer 1 which would be the input of layer 2.\n",
        "    h2 = tf.layers.batch_normalization(h2, training = True)\n",
        "    h2 = tf.nn.sigmoid(h2)\n",
        "\n",
        "    # If you want to simplify the above code, \n",
        "    # use tf.layers.dense(inputs, units, activation)\n",
        "    # i.e. 2st hidden layer => tf.layers.dense(_X, units[0], activation=tf.nn.sigmoid)\n",
        "    \n",
        "    ## Decoder\n",
        "    w3 = tf.get_variable('weight3', [_units[1], d2], initializer=w_init)\n",
        "    \n",
        "    yhat = tf.matmul(h2, w3)\n",
        "    out = tf.gather_nd(yhat, _X.indices)\n",
        "\n",
        "    loss = tf.reduce_sum(tf.pow(out - _X.values, 2)) / _n_ratings\n",
        "    \n",
        "    \n",
        "    ''' L2 regularization '''\n",
        "    all_var = [var for var in tf.trainable_variables() ]\n",
        "    l2_losses = []\n",
        "    for var in all_var:\n",
        "        if var.op.name.find('weight') == 0:\n",
        "            l2_losses.append(tf.nn.l2_loss(var))\n",
        "    \n",
        "    losses = loss + _l2_lambda * tf.reduce_sum(l2_losses)\n",
        "    \n",
        "    return yhat, losses"
      ],
      "execution_count": 0,
      "outputs": []
    },
    {
      "cell_type": "markdown",
      "metadata": {
        "id": "R7CmW-AWXlIs",
        "colab_type": "text"
      },
      "source": [
        "### Set hyperparameters\n",
        "- ***n_epochs*** : The number of epochs\n",
        "- ***lr*** : Learning rate for gradient descent\n",
        "- ***l2_lambda*** : regularization parameter\n",
        "- ***n_units*** : The number of units for each hidden layer\n",
        "- ***n_ratings*** : The number of training data set"
      ]
    },
    {
      "cell_type": "code",
      "metadata": {
        "id": "zqoMMck0XlIs",
        "colab_type": "code",
        "colab": {}
      },
      "source": [
        "\"\"\"parameters\"\"\"\n",
        "n_epochs = 10000\n",
        "lr = 0.1\n",
        "l2_lambda = 0.003\n",
        "n_units = [100, 50]\n",
        "n_ratings = len(ratingTrain)\n",
        "display_step = n_epochs / 10"
      ],
      "execution_count": 0,
      "outputs": []
    },
    {
      "cell_type": "markdown",
      "metadata": {
        "id": "paNx6uhdXlIu",
        "colab_type": "text"
      },
      "source": [
        "### Placeholder for sparse input data\n",
        "Make nodes for input into the graph made above.</br>\n",
        "Since our input is sparse data input, declare X with SparseTensor, not typical Tensor, using tf.sparse_placeholder().</br>\n",
        "The size of x is not assigned in order not to specify the size of the matrix(or vector) that represent input.</br>\n",
        "The size of the input may be different, i.e. size of input of traing data set and test data set are different, so do not specify the size of the node. Just when the feed_dict comes in X, the size of the X is flexiblely fitted the feed_dict size.</br>\n",
        "</br>\n",
        "tf.sparse_placeholder(datatype, shape=None, name=None) : make nodes as SparseTensor. SparseTensor has value(element) and corresponding index. So, SparseTensor allow that nodes are blank. This is what difference are between tf.placeholder() and tf.sparse_placeholder(), Tensor and SparseTensor.</br>\n",
        "tf.placeholder(datatype, shape=None, name=None) : make a Tensor that may be used as a handle for feeding a value, but not evaluated directly. It is dense matrix of which there are not blank element."
      ]
    },
    {
      "cell_type": "code",
      "metadata": {
        "id": "9oDg0rtDXlIv",
        "colab_type": "code",
        "colab": {}
      },
      "source": [
        "# tf Graph input\n",
        "X = tf.sparse_placeholder(dtype=tf.float32)\n",
        "is_train = tf.placeholder(dtype=tf.bool)"
      ],
      "execution_count": 0,
      "outputs": []
    },
    {
      "cell_type": "markdown",
      "metadata": {
        "id": "zqvdviakXlIw",
        "colab_type": "text"
      },
      "source": [
        "### Use the GradientDescentOptimizer\n",
        "So far, we have made graph, but we don't assign the size of edge(matrix representation of weights and bias). Let's assign size of edge.</br>\n",
        "</br>\n",
        "autoencoder() : the above graph</br>\n",
        "tf.Variable(_, trainable) : get variable, If trainalbe is True, add the variable to the graph collection</br>\n",
        "global_step : Optional Variable to increment by one after the variables have been updated. So, global step is variable that represents current step of minimizing. but we don't need it, so global_step is just zero."
      ]
    },
    {
      "cell_type": "code",
      "metadata": {
        "id": "ayPrjhMFXlIx",
        "colab_type": "code",
        "outputId": "63aa404b-2fcf-4643-aa19-d4ade76ac92e",
        "colab": {
          "base_uri": "https://localhost:8080/",
          "height": 383
        }
      },
      "source": [
        "pred, cost = autoencoder(X, n_units, l2_lambda, n_ratings)\n",
        "global_step = tf.Variable(0, trainable=False)\n",
        "\n",
        "#Use MomentumOptimizer with learning rate of 0.1 and momentum of 0.9\n",
        "optimizer = tf.train.MomentumOptimizer(learning_rate=lr,momentum=0.9).minimize(cost, global_step=global_step)"
      ],
      "execution_count": 14,
      "outputs": [
        {
          "output_type": "stream",
          "text": [
            "WARNING:tensorflow:\n",
            "The TensorFlow contrib module will not be included in TensorFlow 2.0.\n",
            "For more information, please see:\n",
            "  * https://github.com/tensorflow/community/blob/master/rfcs/20180907-contrib-sunset.md\n",
            "  * https://github.com/tensorflow/addons\n",
            "  * https://github.com/tensorflow/io (for I/O related ops)\n",
            "If you depend on functionality not listed there, please file an issue.\n",
            "\n",
            "WARNING:tensorflow:From <ipython-input-11-93a179a70468>:11: dropout (from tensorflow.python.layers.core) is deprecated and will be removed in a future version.\n",
            "Instructions for updating:\n",
            "Use keras.layers.dropout instead.\n",
            "WARNING:tensorflow:From /usr/local/lib/python3.6/dist-packages/tensorflow_core/python/layers/core.py:271: Layer.apply (from tensorflow.python.keras.engine.base_layer) is deprecated and will be removed in a future version.\n",
            "Instructions for updating:\n",
            "Please use `layer.__call__` method instead.\n",
            "WARNING:tensorflow:From <ipython-input-11-93a179a70468>:13: batch_normalization (from tensorflow.python.layers.normalization) is deprecated and will be removed in a future version.\n",
            "Instructions for updating:\n",
            "Use keras.layers.BatchNormalization instead.  In particular, `tf.control_dependencies(tf.GraphKeys.UPDATE_OPS)` should not be used (consult the `tf.keras.layers.batch_normalization` documentation).\n",
            "WARNING:tensorflow:From /usr/local/lib/python3.6/dist-packages/tensorflow_core/python/ops/math_grad.py:1375: where (from tensorflow.python.ops.array_ops) is deprecated and will be removed in a future version.\n",
            "Instructions for updating:\n",
            "Use tf.where in 2.0, which has the same broadcast rule as np.where\n"
          ],
          "name": "stdout"
        }
      ]
    },
    {
      "cell_type": "markdown",
      "metadata": {
        "id": "xBJH9D-wXlIz",
        "colab_type": "text"
      },
      "source": [
        "### Create a tensorflow session (EXCUTION PHASE)\n",
        "Tensorflow operations must be executed in the session. The only one session is activated.</br>\n",
        "We must excute NN in the session to learn the neural network we have created.</br>\n",
        "</br>\n",
        "tf.global_variables_initializer() : initializes all weight and bias of NN. \n"
      ]
    },
    {
      "cell_type": "code",
      "metadata": {
        "id": "Z5t5-OrZXlIz",
        "colab_type": "code",
        "colab": {}
      },
      "source": [
        "sess = tf.Session()\n",
        "sess.run(tf.global_variables_initializer())"
      ],
      "execution_count": 0,
      "outputs": []
    },
    {
      "cell_type": "markdown",
      "metadata": {
        "id": "I6O-V_eUXlI2",
        "colab_type": "text"
      },
      "source": [
        "## 3. Training\n",
        "inputs(feed dictionary) of our graph are ([movieId\tuserId], [rating], [# of movies, # of users]), and keyword of feed_dict is X.</br>\n",
        "We implement our NN to get optimizer and cost function value using feed_dict.</br>\n",
        "feed = {X: (ratingTrain[:, 0:2], ratingTrain[:, 2], [d1, d2])}</br>\n",
        "At the previous code, we make nodes(called X) as sparse tensor, SparseTensor is declared in the form (indices, values, shape).</br>\n",
        "=> we assign feed to matrix with shape(d1$*$d2), where row index is movieID, column index is UserID, element of matrix is Rating in ratingTrain.</br>\n",
        "So, most of element of this matrix is blank, because we have sparse input.</br>\n",
        "But since we use tf.sparse_tensor_dense_matmul() and tf.sparse_placeholder(), it is okay.</br>\n",
        "</br>\n",
        "sess.run((learning objective functions), feed_dictionary) : update NN over cost function using assigned optimizer method by give feed dictionary"
      ]
    },
    {
      "cell_type": "code",
      "metadata": {
        "id": "TvxT3GMBXlI4",
        "colab_type": "code",
        "outputId": "637dc7bf-1b4e-459e-d094-369933e95716",
        "colab": {
          "base_uri": "https://localhost:8080/",
          "height": 276
        }
      },
      "source": [
        "print(\"START OPTIMIZATION\\n\")\n",
        "start_time = time.time()\n",
        "losses = []\n",
        "for epoch in  range(n_epochs + 1):\n",
        "    feed = {X: (ratingTrain[:, 0:2], ratingTrain[:, 2], [d1, d2])}\n",
        "    _, avg_cost = sess.run((optimizer, cost), feed_dict = feed)\n",
        "    losses.append(np.sqrt(avg_cost))\n",
        "\n",
        "    # DISPLAY\n",
        "    if epoch % display_step == 0:\n",
        "        duration = float(time.time() - start_time)\n",
        "        print(\" [*] Epoch: %05d/%05d cost: %2e (Computing time: %.3fs)\" % (epoch, n_epochs, np.sqrt(avg_cost), duration))\n",
        "        start_time = time.time()\n",
        "print(\"\\nOptimization Finished!\")"
      ],
      "execution_count": 16,
      "outputs": [
        {
          "output_type": "stream",
          "text": [
            "START OPTIMIZATION\n",
            "\n",
            " [*] Epoch: 00000/10000 cost: 4.026352e+00 (Computing time: 0.948s)\n",
            " [*] Epoch: 01000/10000 cost: 9.428052e-01 (Computing time: 5.159s)\n",
            " [*] Epoch: 02000/10000 cost: 9.161591e-01 (Computing time: 5.204s)\n",
            " [*] Epoch: 03000/10000 cost: 9.134590e-01 (Computing time: 5.195s)\n",
            " [*] Epoch: 04000/10000 cost: 9.023877e-01 (Computing time: 5.164s)\n",
            " [*] Epoch: 05000/10000 cost: 8.976070e-01 (Computing time: 5.420s)\n",
            " [*] Epoch: 06000/10000 cost: 8.948933e-01 (Computing time: 5.411s)\n",
            " [*] Epoch: 07000/10000 cost: 8.970872e-01 (Computing time: 5.069s)\n",
            " [*] Epoch: 08000/10000 cost: 9.006460e-01 (Computing time: 5.279s)\n",
            " [*] Epoch: 09000/10000 cost: 8.951634e-01 (Computing time: 5.073s)\n",
            " [*] Epoch: 10000/10000 cost: 8.911020e-01 (Computing time: 5.220s)\n",
            "\n",
            "Optimization Finished!\n"
          ],
          "name": "stdout"
        }
      ]
    },
    {
      "cell_type": "markdown",
      "metadata": {
        "id": "ECFcyFBk0kBi",
        "colab_type": "text"
      },
      "source": [
        ""
      ]
    },
    {
      "cell_type": "markdown",
      "metadata": {
        "id": "udWdRzZQ5UIj",
        "colab_type": "text"
      },
      "source": [
        "### plot leaning curve"
      ]
    },
    {
      "cell_type": "code",
      "metadata": {
        "id": "1AqiiFNrXlI6",
        "colab_type": "code",
        "outputId": "43a48c16-f430-40ce-ab0f-27ba6b619da3",
        "colab": {
          "base_uri": "https://localhost:8080/",
          "height": 300
        }
      },
      "source": [
        "plt.plot(losses)\n",
        "plt.title(\"Learning curve\", fontsize=14, fontweight='bold')\n",
        "plt.xlabel(\"Epochs\", fontsize=14, fontweight='bold')\n",
        "plt.ylabel(\"RMSE of training set\", fontsize=14, fontweight='bold')\n",
        "plt.show()"
      ],
      "execution_count": 17,
      "outputs": [
        {
          "output_type": "display_data",
          "data": {
            "image/png": "[encoded data removed]",
            "text/plain": [
              "<Figure size 432x288 with 1 Axes>"
            ]
          },
          "metadata": {
            "tags": []
          }
        }
      ]
    },
    {
      "cell_type": "markdown",
      "metadata": {
        "id": "w1luZKV2XlI8",
        "colab_type": "text"
      },
      "source": [
        "## 4. Test\n",
        "inputs(feed dictionary) of our graph are ([movieId\tuserId], [rating], [# of movies, # of users]), and keyword of feed_dict is X</br>\n",
        "We implement out NN to get prediction(yhat) using feed_dict</br>\n",
        "And we get RMSE<br/>\n",
        "pred in Pred = sess.run(pred, feed_dict=feed) is prediction, in other words, pred is yhat(estimate or real value of rate that user rated to a moive)</br>\n",
        "(*reference pred, cost = autoencoder(X, n_units, l2_lambda, n_ratings))</br>\n",
        "</br>\n",
        "idxTest, idxTrain = (index of movieID, index of userID) of matrix[movieID, userID]"
      ]
    },
    {
      "cell_type": "code",
      "metadata": {
        "id": "xMfbFyxxXlI8",
        "colab_type": "code",
        "outputId": "f48de041-f99f-47a1-9ed2-333902828815",
        "colab": {
          "base_uri": "https://localhost:8080/",
          "height": 52
        }
      },
      "source": [
        "feed = {X: (ratingTrain[:, 0:2], ratingTrain[:, 2], [d1, d2])}\n",
        "Pred = sess.run(pred, feed_dict=feed)\n",
        "\n",
        "idxTest = (ratingTest[:, 0].astype(int), ratingTest[:, 1].astype(int))\n",
        "idxTrain = (ratingTrain[:, 0].astype(int), ratingTrain[:, 1].astype(int))\n",
        "\n",
        "RMSE_Test = np.sqrt(np.sum((Pred[idxTest] - ratingTest[:, 2]) ** 2) / len(ratingTest[:, 0]))\n",
        "RMSE_Train = np.sqrt(np.linalg.norm(Pred[idxTrain] - ratingTrain[:, 2]) ** 2 / len(ratingTrain[:, 0]))\n",
        "\n",
        "print(\"[*] RMSE Test: %.4e\" % RMSE_Test)\n",
        "print(\"[*] RMSE Train %.4e\" % RMSE_Train)"
      ],
      "execution_count": 18,
      "outputs": [
        {
          "output_type": "stream",
          "text": [
            "[*] RMSE Test: 9.7706e-01\n",
            "[*] RMSE Train 6.5479e-01\n"
          ],
          "name": "stdout"
        }
      ]
    },
    {
      "cell_type": "markdown",
      "metadata": {
        "id": "B4P8W-ReXlI-",
        "colab_type": "text"
      },
      "source": [
        "# Report</br>\n",
        "\n",
        "Deadline : 2019.11.21 23:59 </br>\n",
        "Submit your soft copy(PJ3_StudentID_Name) to the following email : chaeur@kaist.ac.kr (TA. JongSeong Chae).</br>\n",
        "And please name your email as [CoE202] PJ3_StudentID_Name.</br>\n",
        "I recommend you to refer tensorflow 1.15.0(or 1.x), not 2.x</br>\n",
        "\n",
        "## Report Guidelines\n",
        "- Report length is not limited\n",
        "- Explain your own preprocessing steps and(or) models that you modified.\n",
        "- Annotate on your own source code.\n",
        "- Your report should contain the following contents.\n",
        "\n",
        "### Part 1. Momentum Optimizer\n",
        "Use the \"MomentumOptimizer()\" instead of the GradientDescentOptimizer and compare the RMSE learning curves of the two optimizers. When you use MomentumOptimizer, set the momentum at 0.9 and adjust the learning rate.</br>\n",
        "현재 사용된 Gradient descent optimizer 대신 Momentum optimizer를 사용하고 learning curve의 변화와 RMSE 결과를 비교, 분석하세요 (Momentum optimizer를 사용할 때 momentum 값은 0.9를 사용)</br>\n",
        "*Hint)* tf.train.MomentumOptimizer( )</br>\n",
        "https://www.tensorflow.org/versions/r1.15/api_docs/python/tf/train/MomentumOptimizer\n",
        "\n",
        "### Part 2. Batch normalization\n",
        "Apply \"batch normalization\" to the 1st and 2nd hidden layers of the autoencoder in Part 1, and compare the resulting RMSE learning curves with those obtained above.<br/>\n",
        "첫 번째와 두 번째 hidden layer에 batch normalization 기법을 적용하고 learning curve와 최종 RMSE 결과를 보고 분석하세요.<br/>\n",
        "*Hint)* tf.layers.batch_normalization( )<br/>\n",
        "https://www.tensorflow.org/versions/r1.15/api_docs/python/tf/layers/BatchNormalization\n",
        "\n",
        "### Part 3. Dropout\n",
        "Apply \"Dropout\" to the 1st and 2nd hidden layers of the autoencoder in Part 2, and compare the resulting RMSE learning curves with those obtained above.</br>\n",
        "*Hint)* tf.layers.dropout() or tf.nn.dropout( )<br/>\n",
        "https://www.tensorflow.org/versions/r1.15/api_docs/python/tf/layers/dropout</br>\n",
        "https://www.tensorflow.org/versions/r1.15/api_docs/python/tf/nn/dropout"
      ]
    },
    {
      "cell_type": "markdown",
      "metadata": {
        "id": "dQ3xR_YeTgoB",
        "colab_type": "text"
      },
      "source": [
        "# References\n",
        "- Movie recommend system description : https://medium.com/data-science-101/movie-recommendation-system-content-filtering-7ba425ca0920<br/>\n",
        "- Autoencoder description : https://en.wikipedia.org/wiki/Autoencoder<br/>\n",
        "- https://www.tensorflow.org/versions/r1.15/api_docs/python/tf<br/>"
      ]
    },
    {
      "cell_type": "code",
      "metadata": {
        "id": "mI4ngV1kjVc7",
        "colab_type": "code",
        "colab": {}
      },
      "source": [
        ""
      ],
      "execution_count": 0,
      "outputs": []
    }
  ]
}