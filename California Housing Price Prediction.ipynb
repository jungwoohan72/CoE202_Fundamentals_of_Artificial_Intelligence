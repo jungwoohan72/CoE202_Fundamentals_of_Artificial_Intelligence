{
  "nbformat": 4,
  "nbformat_minor": 0,
  "metadata": {
    "kernelspec": {
      "display_name": "Python 3",
      "language": "python",
      "name": "python3"
    },
    "language_info": {
      "codemirror_mode": {
        "name": "ipython",
        "version": 3
      },
      "file_extension": ".py",
      "mimetype": "text/x-python",
      "name": "python",
      "nbconvert_exporter": "python",
      "pygments_lexer": "ipython3",
      "version": "3.7.1"
    },
    "nav_menu": {
      "height": "279px",
      "width": "309px"
    },
    "toc": {
      "nav_menu": {},
      "number_sections": true,
      "sideBar": true,
      "skip_h1_title": false,
      "toc_cell": false,
      "toc_position": {},
      "toc_section_display": "block",
      "toc_window_display": false
    },
    "colab": {
      "name": "Project1. California Housing Price-배포용.ipynb",
      "provenance": []
    }
  },
  "cells": [
    {
      "cell_type": "markdown",
      "metadata": {
        "id": "69i2BouYX763",
        "colab_type": "text"
      },
      "source": [
        "# California Housing Price \n",
        "reference : exercise in chapter 2 of 'Hands-On Machine Learning with Scikit-learn and Tensorflow' by Aurélien Géron. \n",
        "\n",
        "##### Tip> shortcuts for Jupyter Notebook\n",
        "* Ctrl + Enter : run cell\n",
        "* Shift + Enter : run cell and select below"
      ]
    },
    {
      "cell_type": "markdown",
      "metadata": {
        "id": "c2MgDkJRX764",
        "colab_type": "text"
      },
      "source": [
        "## 1. Data Load\n",
        "\n",
        "Load the data by using *read_csv()* method in __Pandas__ module. Then, let's take a look at the top 10 rows using the *head()* method. "
      ]
    },
    {
      "cell_type": "code",
      "metadata": {
        "scrolled": false,
        "id": "Ja79oTEbX764",
        "colab_type": "code",
        "outputId": "27daa989-6519-4e3c-eef1-098ffdafd970",
        "colab": {
          "base_uri": "https://localhost:8080/",
          "height": 359
        }
      },
      "source": [
        "# Data load\n",
        "import pandas as pd\n",
        "\n",
        "housing = pd.read_csv('housing.csv')\n",
        "housing.head(10)"
      ],
      "execution_count": 0,
      "outputs": [
        {
          "output_type": "execute_result",
          "data": {
            "text/html": [
              "<div>\n",
              "<style scoped>\n",
              "    .dataframe tbody tr th:only-of-type {\n",
              "        vertical-align: middle;\n",
              "    }\n",
              "\n",
              "    .dataframe tbody tr th {\n",
              "        vertical-align: top;\n",
              "    }\n",
              "\n",
              "    .dataframe thead th {\n",
              "        text-align: right;\n",
              "    }\n",
              "</style>\n",
              "<table border=\"1\" class=\"dataframe\">\n",
              "  <thead>\n",
              "    <tr style=\"text-align: right;\">\n",
              "      <th></th>\n",
              "      <th>longitude</th>\n",
              "      <th>latitude</th>\n",
              "      <th>housing_median_age</th>\n",
              "      <th>total_rooms</th>\n",
              "      <th>total_bedrooms</th>\n",
              "      <th>population</th>\n",
              "      <th>households</th>\n",
              "      <th>median_income</th>\n",
              "      <th>median_house_value</th>\n",
              "      <th>ocean_proximity</th>\n",
              "    </tr>\n",
              "  </thead>\n",
              "  <tbody>\n",
              "    <tr>\n",
              "      <th>0</th>\n",
              "      <td>-122.23</td>\n",
              "      <td>37.88</td>\n",
              "      <td>41.0</td>\n",
              "      <td>880.0</td>\n",
              "      <td>129.0</td>\n",
              "      <td>322.0</td>\n",
              "      <td>126.0</td>\n",
              "      <td>8.3252</td>\n",
              "      <td>452600.0</td>\n",
              "      <td>NEAR BAY</td>\n",
              "    </tr>\n",
              "    <tr>\n",
              "      <th>1</th>\n",
              "      <td>-122.22</td>\n",
              "      <td>37.86</td>\n",
              "      <td>21.0</td>\n",
              "      <td>7099.0</td>\n",
              "      <td>1106.0</td>\n",
              "      <td>2401.0</td>\n",
              "      <td>1138.0</td>\n",
              "      <td>8.3014</td>\n",
              "      <td>358500.0</td>\n",
              "      <td>NEAR BAY</td>\n",
              "    </tr>\n",
              "    <tr>\n",
              "      <th>2</th>\n",
              "      <td>-122.24</td>\n",
              "      <td>37.85</td>\n",
              "      <td>52.0</td>\n",
              "      <td>1467.0</td>\n",
              "      <td>190.0</td>\n",
              "      <td>496.0</td>\n",
              "      <td>177.0</td>\n",
              "      <td>7.2574</td>\n",
              "      <td>352100.0</td>\n",
              "      <td>NEAR BAY</td>\n",
              "    </tr>\n",
              "    <tr>\n",
              "      <th>3</th>\n",
              "      <td>-122.25</td>\n",
              "      <td>37.85</td>\n",
              "      <td>52.0</td>\n",
              "      <td>1274.0</td>\n",
              "      <td>235.0</td>\n",
              "      <td>558.0</td>\n",
              "      <td>219.0</td>\n",
              "      <td>5.6431</td>\n",
              "      <td>341300.0</td>\n",
              "      <td>NEAR BAY</td>\n",
              "    </tr>\n",
              "    <tr>\n",
              "      <th>4</th>\n",
              "      <td>-122.25</td>\n",
              "      <td>37.85</td>\n",
              "      <td>52.0</td>\n",
              "      <td>1627.0</td>\n",
              "      <td>280.0</td>\n",
              "      <td>565.0</td>\n",
              "      <td>259.0</td>\n",
              "      <td>3.8462</td>\n",
              "      <td>342200.0</td>\n",
              "      <td>NEAR BAY</td>\n",
              "    </tr>\n",
              "    <tr>\n",
              "      <th>5</th>\n",
              "      <td>-122.25</td>\n",
              "      <td>37.85</td>\n",
              "      <td>52.0</td>\n",
              "      <td>919.0</td>\n",
              "      <td>213.0</td>\n",
              "      <td>413.0</td>\n",
              "      <td>193.0</td>\n",
              "      <td>4.0368</td>\n",
              "      <td>269700.0</td>\n",
              "      <td>NEAR BAY</td>\n",
              "    </tr>\n",
              "    <tr>\n",
              "      <th>6</th>\n",
              "      <td>-122.25</td>\n",
              "      <td>37.84</td>\n",
              "      <td>52.0</td>\n",
              "      <td>2535.0</td>\n",
              "      <td>489.0</td>\n",
              "      <td>1094.0</td>\n",
              "      <td>514.0</td>\n",
              "      <td>3.6591</td>\n",
              "      <td>299200.0</td>\n",
              "      <td>NEAR BAY</td>\n",
              "    </tr>\n",
              "    <tr>\n",
              "      <th>7</th>\n",
              "      <td>-122.25</td>\n",
              "      <td>37.84</td>\n",
              "      <td>52.0</td>\n",
              "      <td>3104.0</td>\n",
              "      <td>687.0</td>\n",
              "      <td>1157.0</td>\n",
              "      <td>647.0</td>\n",
              "      <td>3.1200</td>\n",
              "      <td>241400.0</td>\n",
              "      <td>NEAR BAY</td>\n",
              "    </tr>\n",
              "    <tr>\n",
              "      <th>8</th>\n",
              "      <td>-122.26</td>\n",
              "      <td>37.84</td>\n",
              "      <td>42.0</td>\n",
              "      <td>2555.0</td>\n",
              "      <td>665.0</td>\n",
              "      <td>1206.0</td>\n",
              "      <td>595.0</td>\n",
              "      <td>2.0804</td>\n",
              "      <td>226700.0</td>\n",
              "      <td>NEAR BAY</td>\n",
              "    </tr>\n",
              "    <tr>\n",
              "      <th>9</th>\n",
              "      <td>-122.25</td>\n",
              "      <td>37.84</td>\n",
              "      <td>52.0</td>\n",
              "      <td>3549.0</td>\n",
              "      <td>707.0</td>\n",
              "      <td>1551.0</td>\n",
              "      <td>714.0</td>\n",
              "      <td>3.6912</td>\n",
              "      <td>261100.0</td>\n",
              "      <td>NEAR BAY</td>\n",
              "    </tr>\n",
              "  </tbody>\n",
              "</table>\n",
              "</div>"
            ],
            "text/plain": [
              "   longitude  latitude  ...  median_house_value  ocean_proximity\n",
              "0    -122.23     37.88  ...            452600.0         NEAR BAY\n",
              "1    -122.22     37.86  ...            358500.0         NEAR BAY\n",
              "2    -122.24     37.85  ...            352100.0         NEAR BAY\n",
              "3    -122.25     37.85  ...            341300.0         NEAR BAY\n",
              "4    -122.25     37.85  ...            342200.0         NEAR BAY\n",
              "5    -122.25     37.85  ...            269700.0         NEAR BAY\n",
              "6    -122.25     37.84  ...            299200.0         NEAR BAY\n",
              "7    -122.25     37.84  ...            241400.0         NEAR BAY\n",
              "8    -122.26     37.84  ...            226700.0         NEAR BAY\n",
              "9    -122.25     37.84  ...            261100.0         NEAR BAY\n",
              "\n",
              "[10 rows x 10 columns]"
            ]
          },
          "metadata": {
            "tags": []
          },
          "execution_count": 1
        }
      ]
    },
    {
      "cell_type": "markdown",
      "metadata": {
        "id": "NkxqpKfDX766",
        "colab_type": "text"
      },
      "source": [
        "Let's see the distribution of the data by using __matplotlib__ module briefly."
      ]
    },
    {
      "cell_type": "code",
      "metadata": {
        "id": "ev__MWiTX767",
        "colab_type": "code",
        "outputId": "9b5514c1-ff19-4083-964f-bc43a798f10c",
        "colab": {
          "base_uri": "https://localhost:8080/",
          "height": 472
        }
      },
      "source": [
        "# figures plotting with data\n",
        "%matplotlib inline\n",
        "import matplotlib\n",
        "import matplotlib.pyplot as plt\n",
        "plt.rcParams['axes.labelsize'] = 14\n",
        "plt.rcParams['xtick.labelsize'] = 12\n",
        "plt.rcParams['ytick.labelsize'] = 12\n",
        "\n",
        "housing.plot(kind=\"scatter\", x=\"longitude\", y=\"latitude\", alpha=0.4,\n",
        "    s=housing[\"population\"]/50, label=\"population\", figsize=(10,7),\n",
        "    c=\"median_house_value\", cmap=plt.get_cmap(\"jet\"), colorbar=True,\n",
        "    sharex=False)\n",
        "\n",
        "plt.legend()"
      ],
      "execution_count": 0,
      "outputs": [
        {
          "output_type": "execute_result",
          "data": {
            "text/plain": [
              "<matplotlib.legend.Legend at 0x7f0abf56b240>"
            ]
          },
          "metadata": {
            "tags": []
          },
          "execution_count": 2
        },
        {
          "output_type": "display_data",
          "data": {
            "image/png": "[encoded data removed]",
            "text/plain": [
              "<Figure size 720x504 with 2 Axes>"
            ]
          },
          "metadata": {
            "tags": []
          }
        }
      ]
    },
    {
      "cell_type": "markdown",
      "metadata": {
        "id": "a8pX0duXX768",
        "colab_type": "text"
      },
      "source": [
        "To better understand the characteristics of each feature, let's apply the *info()* method."
      ]
    },
    {
      "cell_type": "code",
      "metadata": {
        "scrolled": false,
        "id": "ozFp10NbX769",
        "colab_type": "code",
        "outputId": "9e60e3f3-680c-41de-d956-279520685c44",
        "colab": {
          "base_uri": "https://localhost:8080/",
          "height": 287
        }
      },
      "source": [
        "# check a structure of the data\n",
        "housing.info()"
      ],
      "execution_count": 0,
      "outputs": [
        {
          "output_type": "stream",
          "text": [
            "<class 'pandas.core.frame.DataFrame'>\n",
            "RangeIndex: 20640 entries, 0 to 20639\n",
            "Data columns (total 10 columns):\n",
            "longitude             20640 non-null float64\n",
            "latitude              20640 non-null float64\n",
            "housing_median_age    20640 non-null float64\n",
            "total_rooms           20640 non-null float64\n",
            "total_bedrooms        20433 non-null float64\n",
            "population            20640 non-null float64\n",
            "households            20640 non-null float64\n",
            "median_income         20640 non-null float64\n",
            "median_house_value    20640 non-null float64\n",
            "ocean_proximity       20640 non-null object\n",
            "dtypes: float64(9), object(1)\n",
            "memory usage: 1.6+ MB\n"
          ],
          "name": "stdout"
        }
      ]
    },
    {
      "cell_type": "markdown",
      "metadata": {
        "id": "uR6R21r3X76-",
        "colab_type": "text"
      },
      "source": [
        "Let’s look at how much each attribute correlates with the *median house value*:"
      ]
    },
    {
      "cell_type": "code",
      "metadata": {
        "id": "jFDEr8iUX76-",
        "colab_type": "code",
        "outputId": "649298d5-938c-49b5-bd93-363ec1b03273",
        "colab": {
          "base_uri": "https://localhost:8080/",
          "height": 197
        }
      },
      "source": [
        "# correlation between the median_house_value and other features\n",
        "corr_matrix = housing.corr()\n",
        "corr_matrix['median_house_value'].sort_values(ascending=False)"
      ],
      "execution_count": 0,
      "outputs": [
        {
          "output_type": "execute_result",
          "data": {
            "text/plain": [
              "median_house_value    1.000000\n",
              "median_income         0.688075\n",
              "total_rooms           0.134153\n",
              "housing_median_age    0.105623\n",
              "households            0.065843\n",
              "total_bedrooms        0.049686\n",
              "population           -0.024650\n",
              "longitude            -0.045967\n",
              "latitude             -0.144160\n",
              "Name: median_house_value, dtype: float64"
            ]
          },
          "metadata": {
            "tags": []
          },
          "execution_count": 4
        }
      ]
    },
    {
      "cell_type": "markdown",
      "metadata": {
        "id": "CVtPOL7QX77A",
        "colab_type": "text"
      },
      "source": [
        "## 2. Prepare the Data\n",
        "\n",
        "this step consists of 'pre-processing', 'train-test seperation', and 'feature-label seperation'."
      ]
    },
    {
      "cell_type": "markdown",
      "metadata": {
        "id": "CQIA4qsBX77A",
        "colab_type": "text"
      },
      "source": [
        "### 2-1) Pre-processing \n",
        "\n",
        "#### 2-1.1) Data cleaning\n",
        "Most Machine Learning algorithms cannot work with missing features, so let’s replace the empty values of 'total_bedrooms' with the median value."
      ]
    },
    {
      "cell_type": "code",
      "metadata": {
        "id": "VV2wfQSeX77B",
        "colab_type": "code",
        "outputId": "6616b63b-008c-4306-8d25-09eb26ece1f8",
        "colab": {
          "base_uri": "https://localhost:8080/",
          "height": 287
        }
      },
      "source": [
        "# replace the empty values with the median\n",
        "median =housing[\"total_bedrooms\"].median()\n",
        "housing[\"total_bedrooms\"] = housing[\"total_bedrooms\"].fillna(median)\n",
        "housing.info()"
      ],
      "execution_count": 0,
      "outputs": [
        {
          "output_type": "stream",
          "text": [
            "<class 'pandas.core.frame.DataFrame'>\n",
            "RangeIndex: 20640 entries, 0 to 20639\n",
            "Data columns (total 10 columns):\n",
            "longitude             20640 non-null float64\n",
            "latitude              20640 non-null float64\n",
            "housing_median_age    20640 non-null float64\n",
            "total_rooms           20640 non-null float64\n",
            "total_bedrooms        20640 non-null float64\n",
            "population            20640 non-null float64\n",
            "households            20640 non-null float64\n",
            "median_income         20640 non-null float64\n",
            "median_house_value    20640 non-null float64\n",
            "ocean_proximity       20640 non-null object\n",
            "dtypes: float64(9), object(1)\n",
            "memory usage: 1.6+ MB\n"
          ],
          "name": "stdout"
        }
      ]
    },
    {
      "cell_type": "markdown",
      "metadata": {
        "id": "K5xTtW2sX77C",
        "colab_type": "text"
      },
      "source": [
        "#### 2-1.2) Attributes combinations\n",
        "*rooms_per_household* is more meaningful than *total_rooms*. Also, *bedrooms_per_room* is more meaningful than *total_bedrooms*."
      ]
    },
    {
      "cell_type": "code",
      "metadata": {
        "id": "xvdzt-wuX77D",
        "colab_type": "code",
        "outputId": "aefbec16-2b0e-4a72-caf4-7d57e6464448",
        "colab": {
          "base_uri": "https://localhost:8080/",
          "height": 287
        }
      },
      "source": [
        "# Attributes combinations\n",
        "housing[\"rooms_per_household\"] = housing[\"total_rooms\"]/housing[\"households\"]\n",
        "housing[\"bedrooms_per_room\"] = housing[\"total_bedrooms\"]/housing[\"total_rooms\"]\n",
        "del housing[\"total_rooms\"], housing[\"total_bedrooms\"]\n",
        "\n",
        "housing.info()"
      ],
      "execution_count": 0,
      "outputs": [
        {
          "output_type": "stream",
          "text": [
            "<class 'pandas.core.frame.DataFrame'>\n",
            "RangeIndex: 20640 entries, 0 to 20639\n",
            "Data columns (total 10 columns):\n",
            "longitude              20640 non-null float64\n",
            "latitude               20640 non-null float64\n",
            "housing_median_age     20640 non-null float64\n",
            "population             20640 non-null float64\n",
            "households             20640 non-null float64\n",
            "median_income          20640 non-null float64\n",
            "median_house_value     20640 non-null float64\n",
            "ocean_proximity        20640 non-null object\n",
            "rooms_per_household    20640 non-null float64\n",
            "bedrooms_per_room      20640 non-null float64\n",
            "dtypes: float64(9), object(1)\n",
            "memory usage: 1.6+ MB\n"
          ],
          "name": "stdout"
        }
      ]
    },
    {
      "cell_type": "markdown",
      "metadata": {
        "id": "0fQF4TIrX77E",
        "colab_type": "text"
      },
      "source": [
        "#### 2-1.3) Feature Scaling\n",
        "Machine Learning algorithms don’t perform well when the input numerical attributes have very different scales.\n",
        "\n",
        "__Scikit-Learn__ provides a transformer called *StandardScaler* for *standardization*."
      ]
    },
    {
      "cell_type": "code",
      "metadata": {
        "scrolled": true,
        "id": "Ej8rNNipX77F",
        "colab_type": "code",
        "outputId": "64f079b0-4fab-4e9c-dc31-6e844dbab64c",
        "colab": {
          "base_uri": "https://localhost:8080/",
          "height": 204
        }
      },
      "source": [
        "# feature standardization\n",
        "from sklearn.preprocessing import StandardScaler\n",
        "\n",
        "scaler = StandardScaler()\n",
        "\n",
        "# delete columns of text type and target variable\n",
        "col_list = list(housing) \n",
        "col_list.remove('ocean_proximity') # text type\n",
        "col_list.remove('median_house_value') # target variable needs not to be scaled\n",
        "\n",
        "# generate a new dataframe that consist of numeric type only\n",
        "housing_numeric = housing[col_list]\n",
        "housing_scaled = scaler.fit_transform(housing_numeric)\n",
        "# Data type conversion from 'Series' to 'DataFrame'\n",
        "housing_scaled_df = pd.DataFrame(housing_scaled, index=housing_numeric.index, columns=housing_numeric.columns)\n",
        "\n",
        "# Concatenate \n",
        "housing = pd.concat([housing_scaled_df, housing['median_house_value'], housing['ocean_proximity']], axis=1)\n",
        "housing.head()"
      ],
      "execution_count": 0,
      "outputs": [
        {
          "output_type": "execute_result",
          "data": {
            "text/html": [
              "<div>\n",
              "<style scoped>\n",
              "    .dataframe tbody tr th:only-of-type {\n",
              "        vertical-align: middle;\n",
              "    }\n",
              "\n",
              "    .dataframe tbody tr th {\n",
              "        vertical-align: top;\n",
              "    }\n",
              "\n",
              "    .dataframe thead th {\n",
              "        text-align: right;\n",
              "    }\n",
              "</style>\n",
              "<table border=\"1\" class=\"dataframe\">\n",
              "  <thead>\n",
              "    <tr style=\"text-align: right;\">\n",
              "      <th></th>\n",
              "      <th>longitude</th>\n",
              "      <th>latitude</th>\n",
              "      <th>housing_median_age</th>\n",
              "      <th>population</th>\n",
              "      <th>households</th>\n",
              "      <th>median_income</th>\n",
              "      <th>rooms_per_household</th>\n",
              "      <th>bedrooms_per_room</th>\n",
              "      <th>median_house_value</th>\n",
              "      <th>ocean_proximity</th>\n",
              "    </tr>\n",
              "  </thead>\n",
              "  <tbody>\n",
              "    <tr>\n",
              "      <th>0</th>\n",
              "      <td>-1.327835</td>\n",
              "      <td>1.052548</td>\n",
              "      <td>0.982143</td>\n",
              "      <td>-0.974429</td>\n",
              "      <td>-0.977033</td>\n",
              "      <td>2.344766</td>\n",
              "      <td>0.628559</td>\n",
              "      <td>-1.029988</td>\n",
              "      <td>452600.0</td>\n",
              "      <td>NEAR BAY</td>\n",
              "    </tr>\n",
              "    <tr>\n",
              "      <th>1</th>\n",
              "      <td>-1.322844</td>\n",
              "      <td>1.043185</td>\n",
              "      <td>-0.607019</td>\n",
              "      <td>0.861439</td>\n",
              "      <td>1.669961</td>\n",
              "      <td>2.332238</td>\n",
              "      <td>0.327041</td>\n",
              "      <td>-0.888897</td>\n",
              "      <td>358500.0</td>\n",
              "      <td>NEAR BAY</td>\n",
              "    </tr>\n",
              "    <tr>\n",
              "      <th>2</th>\n",
              "      <td>-1.332827</td>\n",
              "      <td>1.038503</td>\n",
              "      <td>1.856182</td>\n",
              "      <td>-0.820777</td>\n",
              "      <td>-0.843637</td>\n",
              "      <td>1.782699</td>\n",
              "      <td>1.155620</td>\n",
              "      <td>-1.291686</td>\n",
              "      <td>352100.0</td>\n",
              "      <td>NEAR BAY</td>\n",
              "    </tr>\n",
              "    <tr>\n",
              "      <th>3</th>\n",
              "      <td>-1.337818</td>\n",
              "      <td>1.038503</td>\n",
              "      <td>1.856182</td>\n",
              "      <td>-0.766028</td>\n",
              "      <td>-0.733781</td>\n",
              "      <td>0.932968</td>\n",
              "      <td>0.156966</td>\n",
              "      <td>-0.449613</td>\n",
              "      <td>341300.0</td>\n",
              "      <td>NEAR BAY</td>\n",
              "    </tr>\n",
              "    <tr>\n",
              "      <th>4</th>\n",
              "      <td>-1.337818</td>\n",
              "      <td>1.038503</td>\n",
              "      <td>1.856182</td>\n",
              "      <td>-0.759847</td>\n",
              "      <td>-0.629157</td>\n",
              "      <td>-0.012881</td>\n",
              "      <td>0.344711</td>\n",
              "      <td>-0.639087</td>\n",
              "      <td>342200.0</td>\n",
              "      <td>NEAR BAY</td>\n",
              "    </tr>\n",
              "  </tbody>\n",
              "</table>\n",
              "</div>"
            ],
            "text/plain": [
              "   longitude  latitude  ...  median_house_value  ocean_proximity\n",
              "0  -1.327835  1.052548  ...            452600.0         NEAR BAY\n",
              "1  -1.322844  1.043185  ...            358500.0         NEAR BAY\n",
              "2  -1.332827  1.038503  ...            352100.0         NEAR BAY\n",
              "3  -1.337818  1.038503  ...            341300.0         NEAR BAY\n",
              "4  -1.337818  1.038503  ...            342200.0         NEAR BAY\n",
              "\n",
              "[5 rows x 10 columns]"
            ]
          },
          "metadata": {
            "tags": []
          },
          "execution_count": 7
        }
      ]
    },
    {
      "cell_type": "markdown",
      "metadata": {
        "id": "La7P0YFKX77H",
        "colab_type": "text"
      },
      "source": [
        "#### 2-1.4) Handling Text and Categorical Attributes\n",
        "Most Machine Learning algorithms prefer to work with numbers anyway, so let’s convert the 'ocean_proximity' to numbers.\n",
        "\n",
        "__Pandas__ provides a *get_dummies* method to convert integer categorical values into one-hot vectors. "
      ]
    },
    {
      "cell_type": "code",
      "metadata": {
        "id": "y13fdQzUX77I",
        "colab_type": "code",
        "outputId": "b19d055c-3fa8-47ac-f414-ed5199819c54",
        "colab": {
          "base_uri": "https://localhost:8080/",
          "height": 396
        }
      },
      "source": [
        "# One-hot encoding\n",
        "housing = pd.get_dummies(housing)\n",
        "housing.head(10)"
      ],
      "execution_count": 0,
      "outputs": [
        {
          "output_type": "execute_result",
          "data": {
            "text/html": [
              "<div>\n",
              "<style scoped>\n",
              "    .dataframe tbody tr th:only-of-type {\n",
              "        vertical-align: middle;\n",
              "    }\n",
              "\n",
              "    .dataframe tbody tr th {\n",
              "        vertical-align: top;\n",
              "    }\n",
              "\n",
              "    .dataframe thead th {\n",
              "        text-align: right;\n",
              "    }\n",
              "</style>\n",
              "<table border=\"1\" class=\"dataframe\">\n",
              "  <thead>\n",
              "    <tr style=\"text-align: right;\">\n",
              "      <th></th>\n",
              "      <th>longitude</th>\n",
              "      <th>latitude</th>\n",
              "      <th>housing_median_age</th>\n",
              "      <th>population</th>\n",
              "      <th>households</th>\n",
              "      <th>median_income</th>\n",
              "      <th>rooms_per_household</th>\n",
              "      <th>bedrooms_per_room</th>\n",
              "      <th>median_house_value</th>\n",
              "      <th>ocean_proximity_&lt;1H OCEAN</th>\n",
              "      <th>ocean_proximity_INLAND</th>\n",
              "      <th>ocean_proximity_ISLAND</th>\n",
              "      <th>ocean_proximity_NEAR BAY</th>\n",
              "      <th>ocean_proximity_NEAR OCEAN</th>\n",
              "    </tr>\n",
              "  </thead>\n",
              "  <tbody>\n",
              "    <tr>\n",
              "      <th>0</th>\n",
              "      <td>-1.327835</td>\n",
              "      <td>1.052548</td>\n",
              "      <td>0.982143</td>\n",
              "      <td>-0.974429</td>\n",
              "      <td>-0.977033</td>\n",
              "      <td>2.344766</td>\n",
              "      <td>0.628559</td>\n",
              "      <td>-1.029988</td>\n",
              "      <td>452600.0</td>\n",
              "      <td>0</td>\n",
              "      <td>0</td>\n",
              "      <td>0</td>\n",
              "      <td>1</td>\n",
              "      <td>0</td>\n",
              "    </tr>\n",
              "    <tr>\n",
              "      <th>1</th>\n",
              "      <td>-1.322844</td>\n",
              "      <td>1.043185</td>\n",
              "      <td>-0.607019</td>\n",
              "      <td>0.861439</td>\n",
              "      <td>1.669961</td>\n",
              "      <td>2.332238</td>\n",
              "      <td>0.327041</td>\n",
              "      <td>-0.888897</td>\n",
              "      <td>358500.0</td>\n",
              "      <td>0</td>\n",
              "      <td>0</td>\n",
              "      <td>0</td>\n",
              "      <td>1</td>\n",
              "      <td>0</td>\n",
              "    </tr>\n",
              "    <tr>\n",
              "      <th>2</th>\n",
              "      <td>-1.332827</td>\n",
              "      <td>1.038503</td>\n",
              "      <td>1.856182</td>\n",
              "      <td>-0.820777</td>\n",
              "      <td>-0.843637</td>\n",
              "      <td>1.782699</td>\n",
              "      <td>1.155620</td>\n",
              "      <td>-1.291686</td>\n",
              "      <td>352100.0</td>\n",
              "      <td>0</td>\n",
              "      <td>0</td>\n",
              "      <td>0</td>\n",
              "      <td>1</td>\n",
              "      <td>0</td>\n",
              "    </tr>\n",
              "    <tr>\n",
              "      <th>3</th>\n",
              "      <td>-1.337818</td>\n",
              "      <td>1.038503</td>\n",
              "      <td>1.856182</td>\n",
              "      <td>-0.766028</td>\n",
              "      <td>-0.733781</td>\n",
              "      <td>0.932968</td>\n",
              "      <td>0.156966</td>\n",
              "      <td>-0.449613</td>\n",
              "      <td>341300.0</td>\n",
              "      <td>0</td>\n",
              "      <td>0</td>\n",
              "      <td>0</td>\n",
              "      <td>1</td>\n",
              "      <td>0</td>\n",
              "    </tr>\n",
              "    <tr>\n",
              "      <th>4</th>\n",
              "      <td>-1.337818</td>\n",
              "      <td>1.038503</td>\n",
              "      <td>1.856182</td>\n",
              "      <td>-0.759847</td>\n",
              "      <td>-0.629157</td>\n",
              "      <td>-0.012881</td>\n",
              "      <td>0.344711</td>\n",
              "      <td>-0.639087</td>\n",
              "      <td>342200.0</td>\n",
              "      <td>0</td>\n",
              "      <td>0</td>\n",
              "      <td>0</td>\n",
              "      <td>1</td>\n",
              "      <td>0</td>\n",
              "    </tr>\n",
              "    <tr>\n",
              "      <th>5</th>\n",
              "      <td>-1.337818</td>\n",
              "      <td>1.038503</td>\n",
              "      <td>1.856182</td>\n",
              "      <td>-0.894071</td>\n",
              "      <td>-0.801787</td>\n",
              "      <td>0.087447</td>\n",
              "      <td>-0.269730</td>\n",
              "      <td>0.275563</td>\n",
              "      <td>269700.0</td>\n",
              "      <td>0</td>\n",
              "      <td>0</td>\n",
              "      <td>0</td>\n",
              "      <td>1</td>\n",
              "      <td>0</td>\n",
              "    </tr>\n",
              "    <tr>\n",
              "      <th>6</th>\n",
              "      <td>-1.337818</td>\n",
              "      <td>1.033821</td>\n",
              "      <td>1.856182</td>\n",
              "      <td>-0.292712</td>\n",
              "      <td>0.037823</td>\n",
              "      <td>-0.111366</td>\n",
              "      <td>-0.200918</td>\n",
              "      <td>-0.320242</td>\n",
              "      <td>299200.0</td>\n",
              "      <td>0</td>\n",
              "      <td>0</td>\n",
              "      <td>0</td>\n",
              "      <td>1</td>\n",
              "      <td>0</td>\n",
              "    </tr>\n",
              "    <tr>\n",
              "      <th>7</th>\n",
              "      <td>-1.337818</td>\n",
              "      <td>1.033821</td>\n",
              "      <td>1.856182</td>\n",
              "      <td>-0.237079</td>\n",
              "      <td>0.385698</td>\n",
              "      <td>-0.395137</td>\n",
              "      <td>-0.255232</td>\n",
              "      <td>0.115458</td>\n",
              "      <td>241400.0</td>\n",
              "      <td>0</td>\n",
              "      <td>0</td>\n",
              "      <td>0</td>\n",
              "      <td>1</td>\n",
              "      <td>0</td>\n",
              "    </tr>\n",
              "    <tr>\n",
              "      <th>8</th>\n",
              "      <td>-1.342809</td>\n",
              "      <td>1.033821</td>\n",
              "      <td>1.061601</td>\n",
              "      <td>-0.193810</td>\n",
              "      <td>0.249687</td>\n",
              "      <td>-0.942359</td>\n",
              "      <td>-0.458703</td>\n",
              "      <td>0.712372</td>\n",
              "      <td>226700.0</td>\n",
              "      <td>0</td>\n",
              "      <td>0</td>\n",
              "      <td>0</td>\n",
              "      <td>1</td>\n",
              "      <td>0</td>\n",
              "    </tr>\n",
              "    <tr>\n",
              "      <th>9</th>\n",
              "      <td>-1.337818</td>\n",
              "      <td>1.033821</td>\n",
              "      <td>1.856182</td>\n",
              "      <td>0.110844</td>\n",
              "      <td>0.560944</td>\n",
              "      <td>-0.094470</td>\n",
              "      <td>-0.185283</td>\n",
              "      <td>-0.223507</td>\n",
              "      <td>261100.0</td>\n",
              "      <td>0</td>\n",
              "      <td>0</td>\n",
              "      <td>0</td>\n",
              "      <td>1</td>\n",
              "      <td>0</td>\n",
              "    </tr>\n",
              "  </tbody>\n",
              "</table>\n",
              "</div>"
            ],
            "text/plain": [
              "   longitude  latitude  ...  ocean_proximity_NEAR BAY  ocean_proximity_NEAR OCEAN\n",
              "0  -1.327835  1.052548  ...                         1                           0\n",
              "1  -1.322844  1.043185  ...                         1                           0\n",
              "2  -1.332827  1.038503  ...                         1                           0\n",
              "3  -1.337818  1.038503  ...                         1                           0\n",
              "4  -1.337818  1.038503  ...                         1                           0\n",
              "5  -1.337818  1.038503  ...                         1                           0\n",
              "6  -1.337818  1.033821  ...                         1                           0\n",
              "7  -1.337818  1.033821  ...                         1                           0\n",
              "8  -1.342809  1.033821  ...                         1                           0\n",
              "9  -1.337818  1.033821  ...                         1                           0\n",
              "\n",
              "[10 rows x 14 columns]"
            ]
          },
          "metadata": {
            "tags": []
          },
          "execution_count": 8
        }
      ]
    },
    {
      "cell_type": "markdown",
      "metadata": {
        "id": "Q8Mh_EsfX77K",
        "colab_type": "text"
      },
      "source": [
        "### 2-2) Training and Test Set Seperation\n",
        "__Scikit-Learn__ provides *train_test_split* function to split dataset into multiple subsets in various ways. "
      ]
    },
    {
      "cell_type": "code",
      "metadata": {
        "id": "3a4eowcNX77K",
        "colab_type": "code",
        "outputId": "6172b88a-5312-4138-c776-c855e8f393f0",
        "colab": {
          "base_uri": "https://localhost:8080/",
          "height": 35
        }
      },
      "source": [
        "# training - test seperation\n",
        "from sklearn.model_selection import train_test_split\n",
        "\n",
        "train_set, test_set = train_test_split(housing, test_size=0.2, random_state=42)\n",
        "\n",
        "print('# of train_set : %.0f, # of test_set : %.0f' %(train_set.shape[0], test_set.shape[0]))"
      ],
      "execution_count": 0,
      "outputs": [
        {
          "output_type": "stream",
          "text": [
            "# of train_set : 16512, # of test_set : 4128\n"
          ],
          "name": "stdout"
        }
      ]
    },
    {
      "cell_type": "markdown",
      "metadata": {
        "id": "wDL09RSzX77M",
        "colab_type": "text"
      },
      "source": [
        "### 2-3) Features and Target Value Seperation of the Training Set\n",
        "It’s time to prepare the data for your Machine Learning algorithms. \n",
        "\n",
        "Let’s separate the features and target value to generate the model H(X)."
      ]
    },
    {
      "cell_type": "code",
      "metadata": {
        "id": "NmMgMdkSX77M",
        "colab_type": "code",
        "colab": {}
      },
      "source": [
        "# feature and label seperation of training set\n",
        "train_set_features = train_set.drop('median_house_value',axis=1)\n",
        "train_set_target = train_set[\"median_house_value\"].copy()"
      ],
      "execution_count": 0,
      "outputs": []
    },
    {
      "cell_type": "markdown",
      "metadata": {
        "id": "WlifzLwOX77N",
        "colab_type": "text"
      },
      "source": [
        "## 3. Linear Regression\n",
        "generate the linear regression model by using *LinearRegression* function from __Scikit-learn__.\n",
        "\n",
        "For calculating our RMSE, *mean_square_error* function will be used from __scikit-learn__. Also, __numpy__ module will be used to use sqaure-root operation.\n",
        "\n",
        " $$RMSE = \\sqrt{\\sum{(y - \\widehat y)^2}\\over N}$$\n",
        " <br/>\n",
        " \n",
        "$y$ : actual median_house_value, $\\widehat y$ : median_house_value predicted. $N$ : total number of data<br/>"
      ]
    },
    {
      "cell_type": "code",
      "metadata": {
        "id": "KeNUXd1VX77O",
        "colab_type": "code",
        "colab": {}
      },
      "source": [
        "def RMSE_calculation(param1, param2):\n",
        "    mse = mean_squared_error(param1, param2)\n",
        "    rmse = np.sqrt(mse)\n",
        "\n",
        "    return rmse"
      ],
      "execution_count": 0,
      "outputs": []
    },
    {
      "cell_type": "code",
      "metadata": {
        "id": "wQaPfJ1YX77P",
        "colab_type": "code",
        "outputId": "7b315daa-4a3a-4034-e4f8-d0850a446e0d",
        "colab": {
          "base_uri": "https://localhost:8080/",
          "height": 35
        }
      },
      "source": [
        "from sklearn.linear_model import LinearRegression\n",
        "from sklearn.metrics import mean_squared_error\n",
        "import numpy as np # for a sqaure root calcuation\n",
        "\n",
        "# generate model by using training set\n",
        "lin_reg = LinearRegression()\n",
        "lin_reg.fit(train_set_features, train_set_target) \n",
        "\n",
        "# Feature and target value Seperation of the test set\n",
        "test_set_features = test_set.drop('median_house_value',axis=1)\n",
        "test_set_target = test_set[\"median_house_value\"].copy()\n",
        "\n",
        "# target value predicted from our model\n",
        "train_final_predictions = lin_reg.predict(train_set_features)\n",
        "test_final_predictions = lin_reg.predict(test_set_features)\n",
        "\n",
        "# RMSE\n",
        "train_final_rmse = RMSE_calculation(train_set_target, train_final_predictions)\n",
        "test_final_rmse = RMSE_calculation(test_set_target, test_final_predictions)\n",
        "\n",
        "print('train_RMSE : %.2f , test_RMSE : %.2f' %(train_final_rmse, test_final_rmse))"
      ],
      "execution_count": 0,
      "outputs": [
        {
          "output_type": "stream",
          "text": [
            "train_RMSE : 67631.16 , test_RMSE : 72337.41\n"
          ],
          "name": "stdout"
        }
      ]
    },
    {
      "cell_type": "markdown",
      "metadata": {
        "id": "nfV1n1L4X77Q",
        "colab_type": "text"
      },
      "source": [
        "## 4. Linear Regression with Gradient Descent"
      ]
    },
    {
      "cell_type": "markdown",
      "metadata": {
        "id": "FTxwfjuFX77R",
        "colab_type": "text"
      },
      "source": [
        "To compute matrix calculations easily, convert data types from dataframe to numpy array. "
      ]
    },
    {
      "cell_type": "code",
      "metadata": {
        "id": "d6sUGqoIX77R",
        "colab_type": "code",
        "colab": {}
      },
      "source": [
        "train_set_features_array = train_set_features.values\n",
        "train_set_target_array =np.expand_dims(train_set_target,axis=1)\n",
        "\n",
        "test_set_features_array = test_set_features.values\n",
        "test_set_target_array = np.expand_dims(test_set_target,axis=1)\n",
        "\n",
        "train_y = train_set_target.values.reshape(-1,1)\n",
        "test_y = test_set_target.values.reshape(-1,1)"
      ],
      "execution_count": 0,
      "outputs": []
    },
    {
      "cell_type": "markdown",
      "metadata": {
        "id": "uBqM9w3PX77T",
        "colab_type": "text"
      },
      "source": [
        "Generate the augmented matrix $X_{b}$ by adding bias column which consists of all 1s."
      ]
    },
    {
      "cell_type": "code",
      "metadata": {
        "id": "YxkNNwMjX77T",
        "colab_type": "code",
        "colab": {}
      },
      "source": [
        "train_bias_column = np.ones([train_set_features_array.shape[0],1])\n",
        "train_X_b = np.concatenate((train_set_features_array, train_bias_column),axis=1)\n",
        "\n",
        "test_bias_column = np.ones([test_set_features_array.shape[0],1])\n",
        "test_X_b = np.concatenate((test_set_features_array, test_bias_column),axis=1)"
      ],
      "execution_count": 0,
      "outputs": []
    },
    {
      "cell_type": "markdown",
      "metadata": {
        "id": "L-o8I9c0X77V",
        "colab_type": "text"
      },
      "source": [
        "### 4-1) Batch Gradient Descent"
      ]
    },
    {
      "cell_type": "markdown",
      "metadata": {
        "id": "w6M26iNwX77V",
        "colab_type": "text"
      },
      "source": [
        "The gradient descent mothod is as follows."
      ]
    },
    {
      "cell_type": "markdown",
      "metadata": {
        "id": "Q3Ijbc_kX77W",
        "colab_type": "text"
      },
      "source": [
        "$$ \\theta \\leftarrow \\theta - \\eta\\nabla_{\\theta} J(\\theta) \\quad ,\\,where \\; \\eta = learning\\, rate$$ \n"
      ]
    },
    {
      "cell_type": "markdown",
      "metadata": {
        "id": "rE0bT8p-X77W",
        "colab_type": "text"
      },
      "source": [
        "Recall that "
      ]
    },
    {
      "cell_type": "markdown",
      "metadata": {
        "id": "7L2T938tX77X",
        "colab_type": "text"
      },
      "source": [
        "$$ \\nabla_{\\theta} J(\\theta) = X^{T}X\\theta - X^{T}y $$\n",
        "$$ = X^{T}(X\\theta-y)$$"
      ]
    },
    {
      "cell_type": "markdown",
      "metadata": {
        "id": "Mc2cU2_zX77X",
        "colab_type": "text"
      },
      "source": [
        "It is batch gradient descent that $X$ contains all training instances."
      ]
    },
    {
      "cell_type": "markdown",
      "metadata": {
        "id": "zhAix8xeX77Z",
        "colab_type": "text"
      },
      "source": [
        "At first, initialize $\\theta$ and store the training RMSE and validation RMSE for this initialized $\\theta$."
      ]
    },
    {
      "cell_type": "code",
      "metadata": {
        "id": "gNN4pvHlX77Z",
        "colab_type": "code",
        "outputId": "f5174fb7-cd17-4b59-8f26-a838717d6fa3",
        "colab": {
          "base_uri": "https://localhost:8080/",
          "height": 35
        }
      },
      "source": [
        "# initialize theta \n",
        "feature_num = train_X_b.shape[1]\n",
        "theta = np.random.randn(feature_num,1)\n",
        "\n",
        "GD_train_rmse = []\n",
        "GD_val_rmse = []\n",
        "\n",
        "initialized_theta_train_RMSE = RMSE_calculation(np.dot(train_X_b,theta), train_y)\n",
        "initialized_theta_val_RMSE = RMSE_calculation(np.dot(test_X_b,theta), test_y)\n",
        "\n",
        "GD_train_rmse.append(initialized_theta_train_RMSE)\n",
        "GD_val_rmse.append(initialized_theta_val_RMSE)\n",
        "\n",
        "print('RMSE of the initialized theta - train_RMSE : %.2f, val_RMSE : %.2f' %(initialized_theta_train_RMSE, initialized_theta_val_RMSE))"
      ],
      "execution_count": 0,
      "outputs": [
        {
          "output_type": "stream",
          "text": [
            "RMSE of the initialized theta - train_RMSE : 237271.40, val_RMSE : 235233.36\n"
          ],
          "name": "stdout"
        }
      ]
    },
    {
      "cell_type": "markdown",
      "metadata": {
        "id": "pUqL__ECX77b",
        "colab_type": "text"
      },
      "source": [
        "Execute your batch gradient descent."
      ]
    },
    {
      "cell_type": "code",
      "metadata": {
        "scrolled": true,
        "id": "lQDsClLnX77c",
        "colab_type": "code",
        "outputId": "ebca07fa-0a81-4aff-92e2-d0c02ef3fe0a",
        "colab": {
          "base_uri": "https://localhost:8080/",
          "height": 1000
        }
      },
      "source": [
        "train_num = train_X_b.shape[0]\n",
        "\n",
        "batch_size = train_num\n",
        "n_epoch = 10000\n",
        "eta = 0.001 # learning rate\n",
        "\n",
        "for epoch in range(n_epoch):\n",
        "    gradient = 2.0 / batch_size * np.dot(train_X_b.T , np.dot(train_X_b, theta) - train_y)\n",
        "    theta = theta - eta * gradient\n",
        "    \n",
        "    # train error\n",
        "    GD_train_predictions = np.dot(train_X_b, theta)\n",
        "    GD_train_final_rmse = RMSE_calculation(train_y, GD_train_predictions)\n",
        "    GD_train_rmse.append(GD_train_final_rmse)\n",
        "    \n",
        "    # val error\n",
        "    GD_val_predictions = np.dot(test_X_b, theta)\n",
        "    GD_val_final_rmse = RMSE_calculation(test_y, GD_val_predictions)\n",
        "    GD_val_rmse.append(GD_val_final_rmse)\n",
        "    \n",
        "    if epoch%100 == 0:\n",
        "        print('%d번째 train_RMSE : %.2f, val_RMSE : %.2f' %(epoch, GD_train_final_rmse, GD_val_final_rmse))"
      ],
      "execution_count": 0,
      "outputs": [
        {
          "output_type": "stream",
          "text": [
            "0번째 train_RMSE : 236714.86, val_RMSE : 234686.58\n",
            "100번째 train_RMSE : 188979.95, val_RMSE : 187842.85\n",
            "200번째 train_RMSE : 154323.32, val_RMSE : 153898.05\n",
            "300번째 train_RMSE : 129548.91, val_RMSE : 129652.53\n",
            "400번째 train_RMSE : 112153.86, val_RMSE : 112617.49\n",
            "500번째 train_RMSE : 100148.32, val_RMSE : 100833.09\n",
            "600번째 train_RMSE : 91964.15, val_RMSE : 92771.22\n",
            "700번째 train_RMSE : 86406.74, val_RMSE : 87278.03\n",
            "800번째 train_RMSE : 82608.21, val_RMSE : 83519.24\n",
            "900번째 train_RMSE : 79967.18, val_RMSE : 80916.56\n",
            "1000번째 train_RMSE : 78082.52, val_RMSE : 79082.30\n",
            "1100번째 train_RMSE : 76693.64, val_RMSE : 77762.03\n",
            "1200번째 train_RMSE : 75633.77, val_RMSE : 76790.49\n",
            "1300번째 train_RMSE : 74796.72, val_RMSE : 76060.36\n",
            "1400번째 train_RMSE : 74114.69, val_RMSE : 75501.34\n",
            "1500번째 train_RMSE : 73543.97, val_RMSE : 75066.73\n",
            "1600번째 train_RMSE : 73055.92, val_RMSE : 74724.81\n",
            "1700번째 train_RMSE : 72631.38, val_RMSE : 74453.54\n",
            "1800번째 train_RMSE : 72257.19, val_RMSE : 74237.17\n",
            "1900번째 train_RMSE : 71924.04, val_RMSE : 74064.13\n",
            "2000번째 train_RMSE : 71625.14, val_RMSE : 73925.71\n",
            "2100번째 train_RMSE : 71355.36, val_RMSE : 73815.19\n",
            "2200번째 train_RMSE : 71110.73, val_RMSE : 73727.28\n",
            "2300번째 train_RMSE : 70888.06, val_RMSE : 73657.75\n",
            "2400번째 train_RMSE : 70684.76, val_RMSE : 73603.17\n",
            "2500번째 train_RMSE : 70498.67, val_RMSE : 73560.75\n",
            "2600번째 train_RMSE : 70327.93, val_RMSE : 73528.17\n",
            "2700번째 train_RMSE : 70170.98, val_RMSE : 73503.52\n",
            "2800번째 train_RMSE : 70026.45, val_RMSE : 73485.22\n",
            "2900번째 train_RMSE : 69893.14, val_RMSE : 73471.96\n",
            "3000번째 train_RMSE : 69769.98, val_RMSE : 73462.63\n",
            "3100번째 train_RMSE : 69656.05, val_RMSE : 73456.33\n",
            "3200번째 train_RMSE : 69550.51, val_RMSE : 73452.30\n",
            "3300번째 train_RMSE : 69452.63, val_RMSE : 73449.93\n",
            "3400번째 train_RMSE : 69361.73, val_RMSE : 73448.71\n",
            "3500번째 train_RMSE : 69277.21, val_RMSE : 73448.22\n",
            "3600번째 train_RMSE : 69198.55, val_RMSE : 73448.11\n",
            "3700번째 train_RMSE : 69125.25, val_RMSE : 73448.12\n",
            "3800번째 train_RMSE : 69056.88, val_RMSE : 73448.03\n",
            "3900번째 train_RMSE : 68993.04, val_RMSE : 73447.67\n",
            "4000번째 train_RMSE : 68933.36, val_RMSE : 73446.92\n",
            "4100번째 train_RMSE : 68877.53, val_RMSE : 73445.66\n",
            "4200번째 train_RMSE : 68825.25, val_RMSE : 73443.83\n",
            "4300번째 train_RMSE : 68776.24, val_RMSE : 73441.39\n",
            "4400번째 train_RMSE : 68730.25, val_RMSE : 73438.30\n",
            "4500번째 train_RMSE : 68687.07, val_RMSE : 73434.55\n",
            "4600번째 train_RMSE : 68646.49, val_RMSE : 73430.13\n",
            "4700번째 train_RMSE : 68608.31, val_RMSE : 73425.05\n",
            "4800번째 train_RMSE : 68572.36, val_RMSE : 73419.33\n",
            "4900번째 train_RMSE : 68538.49, val_RMSE : 73412.99\n",
            "5000번째 train_RMSE : 68506.55, val_RMSE : 73406.05\n",
            "5100번째 train_RMSE : 68476.40, val_RMSE : 73398.55\n",
            "5200번째 train_RMSE : 68447.92, val_RMSE : 73390.51\n",
            "5300번째 train_RMSE : 68421.00, val_RMSE : 73381.98\n",
            "5400번째 train_RMSE : 68395.54, val_RMSE : 73372.98\n",
            "5500번째 train_RMSE : 68371.43, val_RMSE : 73363.55\n",
            "5600번째 train_RMSE : 68348.59, val_RMSE : 73353.72\n",
            "5700번째 train_RMSE : 68326.93, val_RMSE : 73343.54\n",
            "5800번째 train_RMSE : 68306.38, val_RMSE : 73333.02\n",
            "5900번째 train_RMSE : 68286.87, val_RMSE : 73322.22\n",
            "6000번째 train_RMSE : 68268.33, val_RMSE : 73311.16\n",
            "6100번째 train_RMSE : 68250.71, val_RMSE : 73299.86\n",
            "6200번째 train_RMSE : 68233.94, val_RMSE : 73288.37\n",
            "6300번째 train_RMSE : 68217.97, val_RMSE : 73276.70\n",
            "6400번째 train_RMSE : 68202.75, val_RMSE : 73264.89\n",
            "6500번째 train_RMSE : 68188.25, val_RMSE : 73252.95\n",
            "6600번째 train_RMSE : 68174.41, val_RMSE : 73240.92\n",
            "6700번째 train_RMSE : 68161.20, val_RMSE : 73228.82\n",
            "6800번째 train_RMSE : 68148.58, val_RMSE : 73216.67\n",
            "6900번째 train_RMSE : 68136.51, val_RMSE : 73204.48\n",
            "7000번째 train_RMSE : 68124.97, val_RMSE : 73192.28\n",
            "7100번째 train_RMSE : 68113.93, val_RMSE : 73180.08\n",
            "7200번째 train_RMSE : 68103.36, val_RMSE : 73167.89\n",
            "7300번째 train_RMSE : 68093.22, val_RMSE : 73155.74\n",
            "7400번째 train_RMSE : 68083.51, val_RMSE : 73143.64\n",
            "7500번째 train_RMSE : 68074.19, val_RMSE : 73131.60\n",
            "7600번째 train_RMSE : 68065.24, val_RMSE : 73119.63\n",
            "7700번째 train_RMSE : 68056.65, val_RMSE : 73107.73\n",
            "7800번째 train_RMSE : 68048.39, val_RMSE : 73095.93\n",
            "7900번째 train_RMSE : 68040.45, val_RMSE : 73084.23\n",
            "8000번째 train_RMSE : 68032.81, val_RMSE : 73072.63\n",
            "8100번째 train_RMSE : 68025.46, val_RMSE : 73061.15\n",
            "8200번째 train_RMSE : 68018.37, val_RMSE : 73049.79\n",
            "8300번째 train_RMSE : 68011.55, val_RMSE : 73038.55\n",
            "8400번째 train_RMSE : 68004.97, val_RMSE : 73027.45\n",
            "8500번째 train_RMSE : 67998.63, val_RMSE : 73016.48\n",
            "8600번째 train_RMSE : 67992.50, val_RMSE : 73005.65\n",
            "8700번째 train_RMSE : 67986.59, val_RMSE : 72994.97\n",
            "8800번째 train_RMSE : 67980.88, val_RMSE : 72984.43\n",
            "8900번째 train_RMSE : 67975.35, val_RMSE : 72974.03\n",
            "9000번째 train_RMSE : 67970.02, val_RMSE : 72963.79\n",
            "9100번째 train_RMSE : 67964.85, val_RMSE : 72953.70\n",
            "9200번째 train_RMSE : 67959.85, val_RMSE : 72943.77\n",
            "9300번째 train_RMSE : 67955.01, val_RMSE : 72933.99\n",
            "9400번째 train_RMSE : 67950.32, val_RMSE : 72924.36\n",
            "9500번째 train_RMSE : 67945.78, val_RMSE : 72914.89\n",
            "9600번째 train_RMSE : 67941.37, val_RMSE : 72905.58\n",
            "9700번째 train_RMSE : 67937.10, val_RMSE : 72896.42\n",
            "9800번째 train_RMSE : 67932.95, val_RMSE : 72887.41\n",
            "9900번째 train_RMSE : 67928.92, val_RMSE : 72878.56\n"
          ],
          "name": "stdout"
        }
      ]
    },
    {
      "cell_type": "markdown",
      "metadata": {
        "id": "WozU5pLdX77e",
        "colab_type": "text"
      },
      "source": [
        "Check for changes of RMSE as epoch increases."
      ]
    },
    {
      "cell_type": "code",
      "metadata": {
        "id": "1rG5OJeDX77e",
        "colab_type": "code",
        "outputId": "cec7c233-1870-4551-bf38-e942331caa69",
        "colab": {
          "base_uri": "https://localhost:8080/",
          "height": 309
        }
      },
      "source": [
        "plt.plot(GD_train_rmse, \"r+\", linewidth=2, label=\"train\")\n",
        "plt.plot(GD_val_rmse, \"b-\", linewidth=3, label=\"val\")\n",
        "\n",
        "plt.ylim([60000, 250000])\n",
        "plt.legend(loc='upper right')\n",
        "plt.xlabel('epoch')\n",
        "plt.ylabel('RMSE')"
      ],
      "execution_count": 0,
      "outputs": [
        {
          "output_type": "execute_result",
          "data": {
            "text/plain": [
              "Text(0, 0.5, 'RMSE')"
            ]
          },
          "metadata": {
            "tags": []
          },
          "execution_count": 17
        },
        {
          "output_type": "display_data",
          "data": {
            "image/png": "[encoded data removed]",
            "text/plain": [
              "<Figure size 432x288 with 1 Axes>"
            ]
          },
          "metadata": {
            "tags": []
          }
        }
      ]
    },
    {
      "cell_type": "markdown",
      "metadata": {
        "id": "IZ4-ko4mX77g",
        "colab_type": "text"
      },
      "source": [
        "### 4-2) Mini-Batch Gradient Descent"
      ]
    },
    {
      "cell_type": "markdown",
      "metadata": {
        "id": "Yo9nUJUgX77h",
        "colab_type": "text"
      },
      "source": [
        "It is mini-batch gradient descent that  𝑋  contains only a small set of randomly selected training instances.<br/>\n",
        "It is important to shuffle the order of train instances after each epochs."
      ]
    },
    {
      "cell_type": "markdown",
      "metadata": {
        "id": "p3e71IlRX77h",
        "colab_type": "text"
      },
      "source": [
        "Initialize  𝜃  and store the training RMSE and validation RMSE for this initialized  𝜃 ."
      ]
    },
    {
      "cell_type": "code",
      "metadata": {
        "id": "x2VeVJyZX77i",
        "colab_type": "code",
        "outputId": "90c930f1-a7d9-404a-d213-5ddfeeba9c5a",
        "colab": {
          "base_uri": "https://localhost:8080/",
          "height": 35
        }
      },
      "source": [
        "theta = np.random.randn(feature_num,1)\n",
        "theta_bkp = theta # back-up the theta values\n",
        "\n",
        "GD_train_rmse = []\n",
        "GD_val_rmse = []\n",
        "\n",
        "GD_batch_train_rmse = []\n",
        "GD_batch_val_rmse = []\n",
        "\n",
        "initialized_theta_train_RMSE = RMSE_calculation(np.dot(train_X_b,theta), train_y)\n",
        "initialized_theta_val_RMSE = RMSE_calculation(np.dot(test_X_b,theta), test_y)\n",
        "\n",
        "GD_train_rmse.append(initialized_theta_train_RMSE)\n",
        "GD_val_rmse.append(initialized_theta_val_RMSE)\n",
        "GD_batch_train_rmse.append(initialized_theta_train_RMSE)\n",
        "GD_batch_val_rmse.append(initialized_theta_val_RMSE)\n",
        "\n",
        "print('RMSE of the initialized theta - train_RMSE : %.2f, val_RMSE : %.2f' %(initialized_theta_train_RMSE, initialized_theta_val_RMSE))"
      ],
      "execution_count": 0,
      "outputs": [
        {
          "output_type": "stream",
          "text": [
            "RMSE of the initialized theta - train_RMSE : 237269.11, val_RMSE : 235231.22\n"
          ],
          "name": "stdout"
        }
      ]
    },
    {
      "cell_type": "markdown",
      "metadata": {
        "id": "2ONrZU5XX77l",
        "colab_type": "text"
      },
      "source": [
        "Execute your mini-batch gradient descent."
      ]
    },
    {
      "cell_type": "code",
      "metadata": {
        "scrolled": true,
        "id": "8Il-36Q3X77m",
        "colab_type": "code",
        "outputId": "889986e9-6f86-447e-e9ad-bef98246ecc1",
        "colab": {
          "base_uri": "https://localhost:8080/",
          "height": 197
        }
      },
      "source": [
        "batch_size = 128\n",
        "n_epoch = 100\n",
        "eta = 0.001 # learning rate\n",
        "\n",
        "for epoch in range(n_epoch):\n",
        "    \n",
        "    # shuffle\n",
        "    shuffle_indices = np.random.permutation(train_num)\n",
        "    feature_shuffled = train_X_b[shuffle_indices,:]\n",
        "    target_shuffled = train_y[shuffle_indices,:]\n",
        "    \n",
        "    for i in range(0, train_num, batch_size):\n",
        "        batch_x = feature_shuffled[i:i+batch_size,:]\n",
        "        batch_y = target_shuffled[i:i+batch_size,:]\n",
        "\n",
        "        gradient = 2.0/batch_size * np.dot(batch_x.T , np.dot(batch_x, theta) - batch_y)\n",
        "        theta = theta - eta * gradient\n",
        "        \n",
        "        # train error after batch update \n",
        "        train_batch_predictions = np.dot(train_X_b, theta)\n",
        "        train_batch_rmse = RMSE_calculation(train_y, train_batch_predictions)\n",
        "        GD_batch_train_rmse.append(train_batch_rmse)\n",
        "        \n",
        "        # test error after batch update\n",
        "        val_batch_predictions = np.dot(test_X_b, theta)\n",
        "        val_batch_rmse = RMSE_calculation(test_y, val_batch_predictions)\n",
        "        GD_batch_val_rmse.append(val_batch_rmse)\n",
        "        \n",
        "    # train error after epoch \n",
        "    GD_train_predictions = np.dot(train_X_b, theta)\n",
        "    GD_train_final_rmse = RMSE_calculation(train_y, GD_train_predictions)\n",
        "    GD_train_rmse.append(GD_train_final_rmse)\n",
        "    \n",
        "    # val error after epoch \n",
        "    GD_val_predictions = np.dot(test_X_b, theta)\n",
        "    GD_val_final_rmse = RMSE_calculation(test_y, GD_val_predictions)\n",
        "    GD_val_rmse.append(GD_val_final_rmse)\n",
        "    \n",
        "    if epoch%10 == 0:\n",
        "        print('%d번째 train_RMSE : %.2f, val_RMSE : %.2f' %(epoch, GD_train_final_rmse, GD_val_final_rmse))"
      ],
      "execution_count": 0,
      "outputs": [
        {
          "output_type": "stream",
          "text": [
            "0번째 train_RMSE : 178105.79, val_RMSE : 177189.82\n",
            "10번째 train_RMSE : 74001.41, val_RMSE : 75412.04\n",
            "20번째 train_RMSE : 70157.98, val_RMSE : 73500.55\n",
            "30번째 train_RMSE : 68934.12, val_RMSE : 73447.62\n",
            "40번째 train_RMSE : 68424.39, val_RMSE : 73381.89\n",
            "50번째 train_RMSE : 68177.53, val_RMSE : 73242.92\n",
            "60번째 train_RMSE : 68043.22, val_RMSE : 73084.85\n",
            "70번째 train_RMSE : 67962.25, val_RMSE : 72952.30\n",
            "80번째 train_RMSE : 67909.09, val_RMSE : 72831.86\n",
            "90번째 train_RMSE : 67871.77, val_RMSE : 72743.71\n"
          ],
          "name": "stdout"
        }
      ]
    },
    {
      "cell_type": "markdown",
      "metadata": {
        "id": "4Q3JYryZX77n",
        "colab_type": "text"
      },
      "source": [
        "Check for changes of RMSE as epoch increases."
      ]
    },
    {
      "cell_type": "code",
      "metadata": {
        "scrolled": false,
        "id": "AUbMt0yJX77o",
        "colab_type": "code",
        "outputId": "3447c428-7944-4054-c0fe-137a822de059",
        "colab": {
          "base_uri": "https://localhost:8080/",
          "height": 309
        }
      },
      "source": [
        "plt.plot(GD_train_rmse, \"r+\", linewidth=2, label=\"train\")\n",
        "plt.plot(GD_val_rmse, \"b-\", linewidth=3, label=\"val\")\n",
        "\n",
        "plt.ylim([60000, 250000])\n",
        "plt.legend(loc='upper right')\n",
        "plt.xlabel('epoch')\n",
        "plt.ylabel('RMSE')"
      ],
      "execution_count": 0,
      "outputs": [
        {
          "output_type": "execute_result",
          "data": {
            "text/plain": [
              "Text(0, 0.5, 'RMSE')"
            ]
          },
          "metadata": {
            "tags": []
          },
          "execution_count": 20
        },
        {
          "output_type": "display_data",
          "data": {
            "image/png": "[encoded data removed]",
            "text/plain": [
              "<Figure size 432x288 with 1 Axes>"
            ]
          },
          "metadata": {
            "tags": []
          }
        }
      ]
    },
    {
      "cell_type": "markdown",
      "metadata": {
        "id": "8v69WckqX77p",
        "colab_type": "text"
      },
      "source": [
        "Check for changes of RMSE as the number of updates increases."
      ]
    },
    {
      "cell_type": "code",
      "metadata": {
        "id": "zFooatW7X77q",
        "colab_type": "code",
        "outputId": "9797582b-5c1f-4c92-c50d-7deef58bf6e9",
        "colab": {
          "base_uri": "https://localhost:8080/",
          "height": 309
        }
      },
      "source": [
        "plt.plot(GD_batch_train_rmse, \"r+\", linewidth=2, label=\"train\")\n",
        "plt.plot(GD_batch_val_rmse, \"b-\", linewidth=3, label=\"val\")\n",
        "\n",
        "plt.ylim([60000, 250000])\n",
        "plt.xlim([0,2000])\n",
        "plt.legend(loc='upper right')\n",
        "plt.xlabel('updates')\n",
        "plt.ylabel('RMSE')"
      ],
      "execution_count": 0,
      "outputs": [
        {
          "output_type": "execute_result",
          "data": {
            "text/plain": [
              "Text(0, 0.5, 'RMSE')"
            ]
          },
          "metadata": {
            "tags": []
          },
          "execution_count": 22
        },
        {
          "output_type": "display_data",
          "data": {
            "image/png": "[encoded data removed]",
            "text/plain": [
              "<Figure size 432x288 with 1 Axes>"
            ]
          },
          "metadata": {
            "tags": []
          }
        }
      ]
    },
    {
      "cell_type": "markdown",
      "metadata": {
        "id": "kAYlKtDGX77r",
        "colab_type": "text"
      },
      "source": [
        "### 4-3) Stochastic Gradient Descent"
      ]
    },
    {
      "cell_type": "markdown",
      "metadata": {
        "id": "cStQ1_U2X77r",
        "colab_type": "text"
      },
      "source": [
        "It is stochastic gradient descent that $𝑋$ contains only one training instance selected randomly."
      ]
    },
    {
      "cell_type": "markdown",
      "metadata": {
        "id": "_KXsN_jmX77s",
        "colab_type": "text"
      },
      "source": [
        "Initialize 𝜃 and store the training RMSE and validation RMSE for this initialized 𝜃 "
      ]
    },
    {
      "cell_type": "code",
      "metadata": {
        "id": "D4_uOR_yX77s",
        "colab_type": "code",
        "colab": {}
      },
      "source": [
        "theta = np.random.randn(feature_num,1)\n",
        "theta_bkp = theta # back-up the theta values\n",
        "\n",
        "GD_train_rmse = []\n",
        "GD_val_rmse = []\n",
        "\n",
        "GD_batch_train_rmse = []\n",
        "GD_batch_val_rmse = []\n",
        "\n",
        "initialized_theta_train_RMSE = RMSE_calculation(np.dot(train_X_b,theta), train_y)\n",
        "initialized_theta_val_RMSE = RMSE_calculation(np.dot(test_X_b,theta), test_y)\n",
        "\n",
        "GD_train_rmse.append(initialized_theta_train_RMSE)\n",
        "GD_val_rmse.append(initialized_theta_val_RMSE)\n",
        "GD_batch_train_rmse.append(initialized_theta_train_RMSE)\n",
        "GD_batch_val_rmse.append(initialized_theta_val_RMSE)\n",
        "\n",
        "print('RMSE of the initialized theta - train_RMSE : %.2f, val_RMSE : %.2f' %(initialized_theta_train_RMSE, initialized_theta_val_RMSE))"
      ],
      "execution_count": 0,
      "outputs": []
    },
    {
      "cell_type": "markdown",
      "metadata": {
        "id": "WVi8yHUhX77t",
        "colab_type": "text"
      },
      "source": [
        "Execute your stochastic gradient descent algorithm.<br/>"
      ]
    },
    {
      "cell_type": "code",
      "metadata": {
        "id": "SlCjDr_zX77u",
        "colab_type": "code",
        "outputId": "c1dc036d-309f-4be2-ff88-be9ab44b1e5d",
        "colab": {
          "base_uri": "https://localhost:8080/",
          "height": 197
        }
      },
      "source": [
        "######################## Q1. ##################################\n",
        "#  TO DO : Fill in the blank with your stochastic gradient descent code.\n",
        "# set the hyper-parameters as follows.\n",
        "# parameters setting : batch size = 1 , epoch = 50 , learning rate = 0.001\n",
        "batch_size = 1\n",
        "n_epoch = 50\n",
        "eta = 0.001 # learning rate\n",
        "\n",
        "for epoch in range(n_epoch):\n",
        "    \n",
        "    # shuffle\n",
        "    shuffle_indices = np.random.permutation(train_num)\n",
        "    feature_shuffled = train_X_b[shuffle_indices,:]\n",
        "    target_shuffled = train_y[shuffle_indices,:]\n",
        "    \n",
        "    for i in range(0, train_num, batch_size):\n",
        "        batch_x = feature_shuffled[i:i+batch_size,:]\n",
        "        batch_y = target_shuffled[i:i+batch_size,:]\n",
        "\n",
        "        gradient = 2.0/batch_size * np.dot(batch_x.T , np.dot(batch_x, theta) - batch_y)\n",
        "        theta = theta - eta * gradient\n",
        "        \n",
        "        # train error after batch update \n",
        "        train_batch_predictions = np.dot(train_X_b, theta)\n",
        "        train_batch_rmse = RMSE_calculation(train_y, train_batch_predictions)\n",
        "        GD_batch_train_rmse.append(train_batch_rmse)\n",
        "        \n",
        "        # test error after batch update\n",
        "        val_batch_predictions = np.dot(test_X_b, theta)\n",
        "        val_batch_rmse = RMSE_calculation(test_y, val_batch_predictions)\n",
        "        GD_batch_val_rmse.append(val_batch_rmse)\n",
        "        \n",
        "    # train error after epoch \n",
        "    GD_train_predictions = np.dot(train_X_b, theta)\n",
        "    GD_train_final_rmse = RMSE_calculation(train_y, GD_train_predictions)\n",
        "    GD_train_rmse.append(GD_train_final_rmse)\n",
        "    \n",
        "    # val error after epoch \n",
        "    GD_val_predictions = np.dot(test_X_b, theta)\n",
        "    GD_val_final_rmse = RMSE_calculation(test_y, GD_val_predictions)\n",
        "    GD_val_rmse.append(GD_val_final_rmse)\n",
        "    \n",
        "    ######################## Q2. ##################################\n",
        "    #Print error every 5 epoch\n",
        "    \n",
        "    if epoch%5 == 0:\n",
        "        print('%d번째 train_RMSE : %.2f, val_RMSE : %.2f' %(epoch, GD_train_final_rmse, GD_val_final_rmse))\n",
        "    \n",
        "    ##############################################################\n",
        "    \n",
        "    \n",
        "##############################################################"
      ],
      "execution_count": 0,
      "outputs": [
        {
          "output_type": "stream",
          "text": [
            "0번째 train_RMSE : 68110.66, val_RMSE : 72157.89\n",
            "5번째 train_RMSE : 68044.51, val_RMSE : 71721.05\n",
            "10번째 train_RMSE : 68465.51, val_RMSE : 73265.22\n",
            "15번째 train_RMSE : 67857.74, val_RMSE : 70893.30\n",
            "20번째 train_RMSE : 67952.13, val_RMSE : 72553.51\n",
            "25번째 train_RMSE : 68051.59, val_RMSE : 73176.19\n",
            "30번째 train_RMSE : 68028.87, val_RMSE : 73555.01\n",
            "35번째 train_RMSE : 67997.21, val_RMSE : 73855.40\n",
            "40번째 train_RMSE : 67873.45, val_RMSE : 73032.76\n",
            "45번째 train_RMSE : 68029.74, val_RMSE : 72047.71\n"
          ],
          "name": "stdout"
        }
      ]
    },
    {
      "cell_type": "code",
      "metadata": {
        "id": "yCEa2AicX77v",
        "colab_type": "code",
        "outputId": "e52e2a57-ed3c-494a-c997-ec7eb414b630",
        "colab": {
          "base_uri": "https://localhost:8080/",
          "height": 309
        }
      },
      "source": [
        "######################## Q3. ##################################\n",
        "# TO DO : plot the learning curve of each epoch.\n",
        "\n",
        "plt.plot(GD_train_rmse, \"r+\", linewidth=2, label=\"train\")\n",
        "plt.plot(GD_val_rmse, \"b-\", linewidth=3, label=\"val\")\n",
        "\n",
        "plt.ylim([60000, 250000])\n",
        "plt.legend(loc='upper right')\n",
        "plt.xlabel('epoch')\n",
        "plt.ylabel('RMSE')\n",
        "\n",
        "##############################################################"
      ],
      "execution_count": 0,
      "outputs": [
        {
          "output_type": "execute_result",
          "data": {
            "text/plain": [
              "Text(0, 0.5, 'RMSE')"
            ]
          },
          "metadata": {
            "tags": []
          },
          "execution_count": 23
        },
        {
          "output_type": "display_data",
          "data": {
            "image/png": "[encoded data removed]",
            "text/plain": [
              "<Figure size 432x288 with 1 Axes>"
            ]
          },
          "metadata": {
            "tags": []
          }
        }
      ]
    },
    {
      "cell_type": "code",
      "metadata": {
        "id": "nbBHj_-tX77w",
        "colab_type": "code",
        "outputId": "7ab42bb3-d90e-4a4e-a88e-7dfd24e611b3",
        "colab": {
          "base_uri": "https://localhost:8080/",
          "height": 309
        }
      },
      "source": [
        "######################## Q4. ##################################\n",
        "# TO DO : plot the learning curve of each updates.\n",
        "\n",
        "plt.plot(GD_batch_train_rmse, \"r+\", linewidth=2, label=\"train\")\n",
        "plt.plot(GD_batch_val_rmse, \"b-\", linewidth=3, label=\"val\")\n",
        "\n",
        "plt.ylim([60000, 250000])\n",
        "plt.xlim([0,2000])\n",
        "plt.legend(loc='upper right')\n",
        "plt.xlabel('updates')\n",
        "plt.ylabel('RMSE')\n",
        "\n",
        "##############################################################"
      ],
      "execution_count": 0,
      "outputs": [
        {
          "output_type": "execute_result",
          "data": {
            "text/plain": [
              "Text(0, 0.5, 'RMSE')"
            ]
          },
          "metadata": {
            "tags": []
          },
          "execution_count": 24
        },
        {
          "output_type": "display_data",
          "data": {
            "image/png": "[encoded data removed]",
            "text/plain": [
              "<Figure size 432x288 with 1 Axes>"
            ]
          },
          "metadata": {
            "tags": []
          }
        }
      ]
    },
    {
      "cell_type": "markdown",
      "metadata": {
        "id": "dZ4_lN5LX77x",
        "colab_type": "text"
      },
      "source": [
        "### 4-4) Stochastic Gradient Descent using SGDRegressor"
      ]
    },
    {
      "cell_type": "markdown",
      "metadata": {
        "id": "SbSSfIDgX77y",
        "colab_type": "text"
      },
      "source": [
        "Scikit-Learn provides a function for stochastic gradient descent, SGDRegressor().<br/>\n",
        "SGDRegressor() has 2 methods, 'fit()' and 'partial_fit()'. <br/>\n",
        "If you use 'fit()' method, you can check the RMSE after total epoches. In the case of 'partial_fit()' method, you can check the RMSE of each epoch.<br/>\n",
        "To plot the changes of RMSE depending on each epoch, please use 'partial_fit()' method.<br/>\n",
        "\n",
        "reference : https://scikit-learn.org/stable/modules/generated/sklearn.linear_model.SGDRegressor.html"
      ]
    },
    {
      "cell_type": "code",
      "metadata": {
        "id": "nhL7k5xIX77y",
        "colab_type": "code",
        "outputId": "8ff75d5c-508b-442a-c9c3-ca8b0ae29a44",
        "colab": {
          "base_uri": "https://localhost:8080/",
          "height": 35
        }
      },
      "source": [
        "SGDfunc_train_rmse = []\n",
        "SGDfunc_val_rmse = []\n",
        "\n",
        "SGDfunc_initialized_theta_train_RMSE = RMSE_calculation(np.dot(train_X_b,theta_bkp), train_y)\n",
        "SGDfunc_initialized_theta_val_RMSE = RMSE_calculation(np.dot(test_X_b,theta_bkp), test_y)\n",
        "\n",
        "SGDfunc_train_rmse.append(SGDfunc_initialized_theta_train_RMSE)\n",
        "SGDfunc_val_rmse.append(SGDfunc_initialized_theta_val_RMSE)\n",
        "\n",
        "\n",
        "print('RMSE of the initialized theta - train_RMSE : %.2f, val_RMSE : %.2f' \n",
        "      %(SGDfunc_initialized_theta_train_RMSE, SGDfunc_initialized_theta_val_RMSE))"
      ],
      "execution_count": 0,
      "outputs": [
        {
          "output_type": "stream",
          "text": [
            "RMSE of the initialized theta - train_RMSE : 237269.11, val_RMSE : 235231.22\n"
          ],
          "name": "stdout"
        }
      ]
    },
    {
      "cell_type": "markdown",
      "metadata": {
        "id": "qmKoJTPBX770",
        "colab_type": "text"
      },
      "source": [
        "Fill in the blanks with your code."
      ]
    },
    {
      "cell_type": "code",
      "metadata": {
        "scrolled": false,
        "id": "A8nAti36X770",
        "colab_type": "code",
        "outputId": "e7d6bd07-3f19-436a-d502-0496816e13ef",
        "colab": {
          "base_uri": "https://localhost:8080/",
          "height": 197
        }
      },
      "source": [
        "######################## Q1. ##################################\n",
        "#  TO DO : import SGDRegressor() function.\n",
        "from sklearn.linear_model import SGDRegressor\n",
        "\n",
        "##############################################################\n",
        "\n",
        "\n",
        "\n",
        "######################## Q2. ##################################\n",
        "# TO DO : set the number of n_epoch to 50\n",
        "n_epoch = 50\n",
        "##############################################################\n",
        "\n",
        "\n",
        "\n",
        "######################## Q3. ##################################\n",
        "# TO DO : set the parameters of SGDRegressor() as follows.\n",
        "# parameters setting : penalty='none', learning_rate='constant', eta0=0.001\n",
        "\n",
        "SGD_model = SGDRegressor(penalty = 'none', learning_rate = 'constant', eta0 = 0.001)\n",
        "##############################################################\n",
        "\n",
        "\n",
        "for epoch in range(n_epoch):   \n",
        "    ######################## Q4. ##################################\n",
        "    # TO DO : execute 'partial_fit()' method.\n",
        "    \n",
        "    SGD_model.partial_fit(train_set_features, train_set_target)\n",
        "    ##############################################################\n",
        "    \n",
        "    # train error\n",
        "    SGD_train_predictions = SGD_model.predict(train_set_features)\n",
        "    SGD_train_final_rmse = RMSE_calculation(SGD_train_predictions, train_set_target)\n",
        "    SGDfunc_train_rmse.append(SGD_train_final_rmse)\n",
        "    \n",
        "    # val error\n",
        "    SGD_val_predictions = SGD_model.predict(test_set_features)\n",
        "    SGD_val_final_rmse = RMSE_calculation(SGD_val_predictions, test_set_target)\n",
        "    SGDfunc_val_rmse.append(SGD_val_final_rmse)\n",
        "    \n",
        "    if epoch%5 == 0:\n",
        "           print('%d번째 train_RMSE : %.2f, val_RMSE : %.2f' %(epoch, SGD_train_final_rmse, SGD_val_final_rmse))\n",
        "\n",
        "    # command to hide the warning box\n",
        "    import warnings\n",
        "    warnings.filterwarnings(action = 'ignore')\n"
      ],
      "execution_count": 0,
      "outputs": [
        {
          "output_type": "stream",
          "text": [
            "0번째 train_RMSE : 68170.03, val_RMSE : 73737.77\n",
            "5번째 train_RMSE : 67935.57, val_RMSE : 72776.79\n",
            "10번째 train_RMSE : 67908.69, val_RMSE : 72269.26\n",
            "15번째 train_RMSE : 67777.91, val_RMSE : 72730.35\n",
            "20번째 train_RMSE : 67896.82, val_RMSE : 73204.73\n",
            "25번째 train_RMSE : 67741.95, val_RMSE : 73242.04\n",
            "30번째 train_RMSE : 67873.54, val_RMSE : 72179.10\n",
            "35번째 train_RMSE : 67958.36, val_RMSE : 72519.63\n",
            "40번째 train_RMSE : 67989.68, val_RMSE : 74066.42\n",
            "45번째 train_RMSE : 67839.41, val_RMSE : 72548.28\n"
          ],
          "name": "stdout"
        }
      ]
    },
    {
      "cell_type": "code",
      "metadata": {
        "id": "cmMT2He-X771",
        "colab_type": "code",
        "outputId": "8a214081-5a08-4c86-efbc-dd1c3d21fed3",
        "colab": {
          "base_uri": "https://localhost:8080/",
          "height": 309
        }
      },
      "source": [
        "######################## Q5. ##################################\n",
        "# TO DO : plot the learning curve as epoch changes.\n",
        "\n",
        "plt.plot(SGDfunc_train_rmse, \"r+\", linewidth=2, label=\"train\")\n",
        "plt.plot(SGDfunc_val_rmse, \"b-\", linewidth=3, label=\"val\")\n",
        "\n",
        "plt.ylim([60000, 250000])\n",
        "plt.legend(loc='upper right')\n",
        "plt.xlabel('epoch')\n",
        "plt.ylabel('RMSE')\n",
        "\n",
        "\n",
        "##############################################################"
      ],
      "execution_count": 0,
      "outputs": [
        {
          "output_type": "execute_result",
          "data": {
            "text/plain": [
              "Text(0, 0.5, 'RMSE')"
            ]
          },
          "metadata": {
            "tags": []
          },
          "execution_count": 29
        },
        {
          "output_type": "display_data",
          "data": {
            "image/png": "[encoded data removed]",
            "text/plain": [
              "<Figure size 432x288 with 1 Axes>"
            ]
          },
          "metadata": {
            "tags": []
          }
        }
      ]
    },
    {
      "cell_type": "code",
      "metadata": {
        "id": "K7gHr82Sk2ks",
        "colab_type": "code",
        "colab": {}
      },
      "source": [
        ""
      ],
      "execution_count": 0,
      "outputs": []
    }
  ]
}